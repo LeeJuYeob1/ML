{
 "cells": [
  {
   "cell_type": "code",
   "execution_count": 1,
   "id": "c2e240bb-ef5d-4f6f-8bf6-d3d9df52e2f8",
   "metadata": {},
   "outputs": [
    {
     "name": "stderr",
     "output_type": "stream",
     "text": [
      "Traceback (most recent call last):\n",
      "  File \"D:\\ML\\fast-style-transfer-master\\fast-style-transfer-master\\style.py\", line 167, in <module>\n",
      "    main()\n",
      "  File \"D:\\ML\\fast-style-transfer-master\\fast-style-transfer-master\\style.py\", line 115, in main\n",
      "    check_opts(options)\n",
      "  File \"D:\\ML\\fast-style-transfer-master\\fast-style-transfer-master\\style.py\", line 91, in check_opts\n",
      "    exists(opts.checkpoint_dir, \"checkpoint dir not found!\")\n",
      "  File \"D:\\ML\\fast-style-transfer-master\\fast-style-transfer-master\\src\\utils.py\", line 26, in exists\n",
      "    assert os.path.exists(p), msg\n",
      "AssertionError: checkpoint dir not found!\n"
     ]
    }
   ],
   "source": [
    "!python style.py --style path/to/style/img.jpg \\\n",
    "  --checkpoint-dir checkpoint/path \\\n",
    "  --test path/to/test/img.jpg \\\n",
    "  --test-dir path/to/test/dir \\\n",
    "  --content-weight 1.5e1 \\\n",
    "  --checkpoint-iterations 1000 \\\n",
    "  --batch-size 20"
   ]
  },
  {
   "cell_type": "code",
   "execution_count": null,
   "id": "25724c6f-7dd6-4dce-8758-7babe4d49042",
   "metadata": {},
   "outputs": [],
   "source": []
  }
 ],
 "metadata": {
  "kernelspec": {
   "display_name": "Python 3 (ipykernel)",
   "language": "python",
   "name": "python3"
  },
  "language_info": {
   "codemirror_mode": {
    "name": "ipython",
    "version": 3
   },
   "file_extension": ".py",
   "mimetype": "text/x-python",
   "name": "python",
   "nbconvert_exporter": "python",
   "pygments_lexer": "ipython3",
   "version": "3.10.6"
  }
 },
 "nbformat": 4,
 "nbformat_minor": 5
}
