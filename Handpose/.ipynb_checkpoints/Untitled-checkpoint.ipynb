{
 "cells": [
  {
   "cell_type": "markdown",
   "id": "df36b4a4",
   "metadata": {},
   "source": [
    "## Import"
   ]
  },
  {
   "cell_type": "code",
   "execution_count": 288,
   "id": "a394ece6",
   "metadata": {},
   "outputs": [],
   "source": [
    "import random\n",
    "import pandas as pd\n",
    "import numpy as np\n",
    "import os\n",
    "import cv2\n",
    "\n",
    "from tensorflow.keras import models, layers, Model, regularizers\n",
    "from tensorflow.keras.models import Sequential, load_model\n",
    "from tensorflow.keras.layers import Conv2D, MaxPooling2D, Permute, Conv3D, MaxPooling3D\n",
    "from tensorflow.keras.layers import Dense, Dropout, Flatten, GlobalAveragePooling2D, BatchNormalization\n",
    "from tensorflow.keras.layers import Flatten, Dense, Dropout, ZeroPadding2D \n",
    "from tensorflow.keras.preprocessing.image import ImageDataGenerator\n",
    "from tensorflow.keras.callbacks import ModelCheckpoint, TensorBoard, ReduceLROnPlateau, EarlyStopping\n",
    "from tensorflow.keras import optimizers\n",
    "from tensorflow.keras.optimizers import SGD\n",
    "from tensorflow.keras.models import Model\n",
    "from tensorflow.keras.preprocessing import image\n",
    "from tensorflow.keras.applications import EfficientNetB4, EfficientNetB6, ResNet50V2, EfficientNetB0\n",
    "#from keras_tuner.tuners import RandomSearch\n",
    "from tensorflow.keras.utils import Sequence\n",
    "\n",
    "import albumentations as A\n",
    "\n",
    "from sklearn.model_selection import train_test_split\n",
    "from sklearn.metrics import f1_score\n",
    "\n",
    "import warnings"
   ]
  },
  {
   "cell_type": "markdown",
   "id": "90e1d58a",
   "metadata": {},
   "source": [
    "# Make DataSet"
   ]
  },
  {
   "cell_type": "code",
   "execution_count": 289,
   "id": "dff09cda",
   "metadata": {},
   "outputs": [],
   "source": [
    "df = pd.read_csv('./open/train.csv')"
   ]
  },
  {
   "cell_type": "code",
   "execution_count": 290,
   "id": "07c8e9f5",
   "metadata": {},
   "outputs": [
    {
     "data": {
      "text/html": [
       "<div>\n",
       "<style scoped>\n",
       "    .dataframe tbody tr th:only-of-type {\n",
       "        vertical-align: middle;\n",
       "    }\n",
       "\n",
       "    .dataframe tbody tr th {\n",
       "        vertical-align: top;\n",
       "    }\n",
       "\n",
       "    .dataframe thead th {\n",
       "        text-align: right;\n",
       "    }\n",
       "</style>\n",
       "<table border=\"1\" class=\"dataframe\">\n",
       "  <thead>\n",
       "    <tr style=\"text-align: right;\">\n",
       "      <th></th>\n",
       "      <th>id</th>\n",
       "      <th>path</th>\n",
       "      <th>label</th>\n",
       "    </tr>\n",
       "  </thead>\n",
       "  <tbody>\n",
       "    <tr>\n",
       "      <th>0</th>\n",
       "      <td>TRAIN_000</td>\n",
       "      <td>./train/TRAIN_000.mp4</td>\n",
       "      <td>3</td>\n",
       "    </tr>\n",
       "    <tr>\n",
       "      <th>1</th>\n",
       "      <td>TRAIN_001</td>\n",
       "      <td>./train/TRAIN_001.mp4</td>\n",
       "      <td>0</td>\n",
       "    </tr>\n",
       "    <tr>\n",
       "      <th>2</th>\n",
       "      <td>TRAIN_002</td>\n",
       "      <td>./train/TRAIN_002.mp4</td>\n",
       "      <td>1</td>\n",
       "    </tr>\n",
       "    <tr>\n",
       "      <th>3</th>\n",
       "      <td>TRAIN_003</td>\n",
       "      <td>./train/TRAIN_003.mp4</td>\n",
       "      <td>4</td>\n",
       "    </tr>\n",
       "    <tr>\n",
       "      <th>4</th>\n",
       "      <td>TRAIN_004</td>\n",
       "      <td>./train/TRAIN_004.mp4</td>\n",
       "      <td>4</td>\n",
       "    </tr>\n",
       "    <tr>\n",
       "      <th>...</th>\n",
       "      <td>...</td>\n",
       "      <td>...</td>\n",
       "      <td>...</td>\n",
       "    </tr>\n",
       "    <tr>\n",
       "      <th>605</th>\n",
       "      <td>TRAIN_605</td>\n",
       "      <td>./train/TRAIN_605.mp4</td>\n",
       "      <td>0</td>\n",
       "    </tr>\n",
       "    <tr>\n",
       "      <th>606</th>\n",
       "      <td>TRAIN_606</td>\n",
       "      <td>./train/TRAIN_606.mp4</td>\n",
       "      <td>2</td>\n",
       "    </tr>\n",
       "    <tr>\n",
       "      <th>607</th>\n",
       "      <td>TRAIN_607</td>\n",
       "      <td>./train/TRAIN_607.mp4</td>\n",
       "      <td>1</td>\n",
       "    </tr>\n",
       "    <tr>\n",
       "      <th>608</th>\n",
       "      <td>TRAIN_608</td>\n",
       "      <td>./train/TRAIN_608.mp4</td>\n",
       "      <td>4</td>\n",
       "    </tr>\n",
       "    <tr>\n",
       "      <th>609</th>\n",
       "      <td>TRAIN_609</td>\n",
       "      <td>./train/TRAIN_609.mp4</td>\n",
       "      <td>0</td>\n",
       "    </tr>\n",
       "  </tbody>\n",
       "</table>\n",
       "<p>610 rows × 3 columns</p>\n",
       "</div>"
      ],
      "text/plain": [
       "            id                   path  label\n",
       "0    TRAIN_000  ./train/TRAIN_000.mp4      3\n",
       "1    TRAIN_001  ./train/TRAIN_001.mp4      0\n",
       "2    TRAIN_002  ./train/TRAIN_002.mp4      1\n",
       "3    TRAIN_003  ./train/TRAIN_003.mp4      4\n",
       "4    TRAIN_004  ./train/TRAIN_004.mp4      4\n",
       "..         ...                    ...    ...\n",
       "605  TRAIN_605  ./train/TRAIN_605.mp4      0\n",
       "606  TRAIN_606  ./train/TRAIN_606.mp4      2\n",
       "607  TRAIN_607  ./train/TRAIN_607.mp4      1\n",
       "608  TRAIN_608  ./train/TRAIN_608.mp4      4\n",
       "609  TRAIN_609  ./train/TRAIN_609.mp4      0\n",
       "\n",
       "[610 rows x 3 columns]"
      ]
     },
     "execution_count": 290,
     "metadata": {},
     "output_type": "execute_result"
    }
   ],
   "source": [
    "df"
   ]
  },
  {
   "cell_type": "code",
   "execution_count": 291,
   "id": "34de4bf6",
   "metadata": {},
   "outputs": [
    {
     "data": {
      "text/plain": [
       "(610, 3)"
      ]
     },
     "execution_count": 291,
     "metadata": {},
     "output_type": "execute_result"
    }
   ],
   "source": [
    "df.shape"
   ]
  },
  {
   "cell_type": "code",
   "execution_count": 292,
   "id": "046a975b",
   "metadata": {},
   "outputs": [],
   "source": [
    "X_train, X_test, y_train, y_test = train_test_split(df, df['label'].values, test_size = 0.2)"
   ]
  },
  {
   "cell_type": "code",
   "execution_count": 293,
   "id": "33cf8d04",
   "metadata": {},
   "outputs": [
    {
     "data": {
      "text/html": [
       "<div>\n",
       "<style scoped>\n",
       "    .dataframe tbody tr th:only-of-type {\n",
       "        vertical-align: middle;\n",
       "    }\n",
       "\n",
       "    .dataframe tbody tr th {\n",
       "        vertical-align: top;\n",
       "    }\n",
       "\n",
       "    .dataframe thead th {\n",
       "        text-align: right;\n",
       "    }\n",
       "</style>\n",
       "<table border=\"1\" class=\"dataframe\">\n",
       "  <thead>\n",
       "    <tr style=\"text-align: right;\">\n",
       "      <th></th>\n",
       "      <th>id</th>\n",
       "      <th>path</th>\n",
       "      <th>label</th>\n",
       "    </tr>\n",
       "  </thead>\n",
       "  <tbody>\n",
       "    <tr>\n",
       "      <th>253</th>\n",
       "      <td>TRAIN_253</td>\n",
       "      <td>./train/TRAIN_253.mp4</td>\n",
       "      <td>2</td>\n",
       "    </tr>\n",
       "    <tr>\n",
       "      <th>316</th>\n",
       "      <td>TRAIN_316</td>\n",
       "      <td>./train/TRAIN_316.mp4</td>\n",
       "      <td>4</td>\n",
       "    </tr>\n",
       "    <tr>\n",
       "      <th>338</th>\n",
       "      <td>TRAIN_338</td>\n",
       "      <td>./train/TRAIN_338.mp4</td>\n",
       "      <td>2</td>\n",
       "    </tr>\n",
       "    <tr>\n",
       "      <th>391</th>\n",
       "      <td>TRAIN_391</td>\n",
       "      <td>./train/TRAIN_391.mp4</td>\n",
       "      <td>2</td>\n",
       "    </tr>\n",
       "    <tr>\n",
       "      <th>459</th>\n",
       "      <td>TRAIN_459</td>\n",
       "      <td>./train/TRAIN_459.mp4</td>\n",
       "      <td>4</td>\n",
       "    </tr>\n",
       "    <tr>\n",
       "      <th>...</th>\n",
       "      <td>...</td>\n",
       "      <td>...</td>\n",
       "      <td>...</td>\n",
       "    </tr>\n",
       "    <tr>\n",
       "      <th>65</th>\n",
       "      <td>TRAIN_065</td>\n",
       "      <td>./train/TRAIN_065.mp4</td>\n",
       "      <td>1</td>\n",
       "    </tr>\n",
       "    <tr>\n",
       "      <th>383</th>\n",
       "      <td>TRAIN_383</td>\n",
       "      <td>./train/TRAIN_383.mp4</td>\n",
       "      <td>2</td>\n",
       "    </tr>\n",
       "    <tr>\n",
       "      <th>8</th>\n",
       "      <td>TRAIN_008</td>\n",
       "      <td>./train/TRAIN_008.mp4</td>\n",
       "      <td>1</td>\n",
       "    </tr>\n",
       "    <tr>\n",
       "      <th>269</th>\n",
       "      <td>TRAIN_269</td>\n",
       "      <td>./train/TRAIN_269.mp4</td>\n",
       "      <td>2</td>\n",
       "    </tr>\n",
       "    <tr>\n",
       "      <th>128</th>\n",
       "      <td>TRAIN_128</td>\n",
       "      <td>./train/TRAIN_128.mp4</td>\n",
       "      <td>2</td>\n",
       "    </tr>\n",
       "  </tbody>\n",
       "</table>\n",
       "<p>488 rows × 3 columns</p>\n",
       "</div>"
      ],
      "text/plain": [
       "            id                   path  label\n",
       "253  TRAIN_253  ./train/TRAIN_253.mp4      2\n",
       "316  TRAIN_316  ./train/TRAIN_316.mp4      4\n",
       "338  TRAIN_338  ./train/TRAIN_338.mp4      2\n",
       "391  TRAIN_391  ./train/TRAIN_391.mp4      2\n",
       "459  TRAIN_459  ./train/TRAIN_459.mp4      4\n",
       "..         ...                    ...    ...\n",
       "65   TRAIN_065  ./train/TRAIN_065.mp4      1\n",
       "383  TRAIN_383  ./train/TRAIN_383.mp4      2\n",
       "8    TRAIN_008  ./train/TRAIN_008.mp4      1\n",
       "269  TRAIN_269  ./train/TRAIN_269.mp4      2\n",
       "128  TRAIN_128  ./train/TRAIN_128.mp4      2\n",
       "\n",
       "[488 rows x 3 columns]"
      ]
     },
     "execution_count": 293,
     "metadata": {},
     "output_type": "execute_result"
    }
   ],
   "source": [
    "X_train"
   ]
  },
  {
   "cell_type": "code",
   "execution_count": 294,
   "id": "8573bb0e",
   "metadata": {},
   "outputs": [],
   "source": [
    "X_train = X_train.sort_values(by=['id'])"
   ]
  },
  {
   "cell_type": "code",
   "execution_count": 295,
   "id": "b7d5b088",
   "metadata": {},
   "outputs": [
    {
     "data": {
      "text/html": [
       "<div>\n",
       "<style scoped>\n",
       "    .dataframe tbody tr th:only-of-type {\n",
       "        vertical-align: middle;\n",
       "    }\n",
       "\n",
       "    .dataframe tbody tr th {\n",
       "        vertical-align: top;\n",
       "    }\n",
       "\n",
       "    .dataframe thead th {\n",
       "        text-align: right;\n",
       "    }\n",
       "</style>\n",
       "<table border=\"1\" class=\"dataframe\">\n",
       "  <thead>\n",
       "    <tr style=\"text-align: right;\">\n",
       "      <th></th>\n",
       "      <th>id</th>\n",
       "      <th>path</th>\n",
       "      <th>label</th>\n",
       "    </tr>\n",
       "  </thead>\n",
       "  <tbody>\n",
       "    <tr>\n",
       "      <th>0</th>\n",
       "      <td>TRAIN_000</td>\n",
       "      <td>./train/TRAIN_000.mp4</td>\n",
       "      <td>3</td>\n",
       "    </tr>\n",
       "    <tr>\n",
       "      <th>1</th>\n",
       "      <td>TRAIN_001</td>\n",
       "      <td>./train/TRAIN_001.mp4</td>\n",
       "      <td>0</td>\n",
       "    </tr>\n",
       "    <tr>\n",
       "      <th>2</th>\n",
       "      <td>TRAIN_002</td>\n",
       "      <td>./train/TRAIN_002.mp4</td>\n",
       "      <td>1</td>\n",
       "    </tr>\n",
       "    <tr>\n",
       "      <th>5</th>\n",
       "      <td>TRAIN_005</td>\n",
       "      <td>./train/TRAIN_005.mp4</td>\n",
       "      <td>0</td>\n",
       "    </tr>\n",
       "    <tr>\n",
       "      <th>6</th>\n",
       "      <td>TRAIN_006</td>\n",
       "      <td>./train/TRAIN_006.mp4</td>\n",
       "      <td>4</td>\n",
       "    </tr>\n",
       "    <tr>\n",
       "      <th>...</th>\n",
       "      <td>...</td>\n",
       "      <td>...</td>\n",
       "      <td>...</td>\n",
       "    </tr>\n",
       "    <tr>\n",
       "      <th>604</th>\n",
       "      <td>TRAIN_604</td>\n",
       "      <td>./train/TRAIN_604.mp4</td>\n",
       "      <td>0</td>\n",
       "    </tr>\n",
       "    <tr>\n",
       "      <th>605</th>\n",
       "      <td>TRAIN_605</td>\n",
       "      <td>./train/TRAIN_605.mp4</td>\n",
       "      <td>0</td>\n",
       "    </tr>\n",
       "    <tr>\n",
       "      <th>607</th>\n",
       "      <td>TRAIN_607</td>\n",
       "      <td>./train/TRAIN_607.mp4</td>\n",
       "      <td>1</td>\n",
       "    </tr>\n",
       "    <tr>\n",
       "      <th>608</th>\n",
       "      <td>TRAIN_608</td>\n",
       "      <td>./train/TRAIN_608.mp4</td>\n",
       "      <td>4</td>\n",
       "    </tr>\n",
       "    <tr>\n",
       "      <th>609</th>\n",
       "      <td>TRAIN_609</td>\n",
       "      <td>./train/TRAIN_609.mp4</td>\n",
       "      <td>0</td>\n",
       "    </tr>\n",
       "  </tbody>\n",
       "</table>\n",
       "<p>488 rows × 3 columns</p>\n",
       "</div>"
      ],
      "text/plain": [
       "            id                   path  label\n",
       "0    TRAIN_000  ./train/TRAIN_000.mp4      3\n",
       "1    TRAIN_001  ./train/TRAIN_001.mp4      0\n",
       "2    TRAIN_002  ./train/TRAIN_002.mp4      1\n",
       "5    TRAIN_005  ./train/TRAIN_005.mp4      0\n",
       "6    TRAIN_006  ./train/TRAIN_006.mp4      4\n",
       "..         ...                    ...    ...\n",
       "604  TRAIN_604  ./train/TRAIN_604.mp4      0\n",
       "605  TRAIN_605  ./train/TRAIN_605.mp4      0\n",
       "607  TRAIN_607  ./train/TRAIN_607.mp4      1\n",
       "608  TRAIN_608  ./train/TRAIN_608.mp4      4\n",
       "609  TRAIN_609  ./train/TRAIN_609.mp4      0\n",
       "\n",
       "[488 rows x 3 columns]"
      ]
     },
     "execution_count": 295,
     "metadata": {},
     "output_type": "execute_result"
    }
   ],
   "source": [
    "X_train"
   ]
  },
  {
   "cell_type": "code",
   "execution_count": 296,
   "id": "474625db",
   "metadata": {},
   "outputs": [],
   "source": [
    "X_train['id'] = [path[6:] for path in X_train['id']]"
   ]
  },
  {
   "cell_type": "code",
   "execution_count": 297,
   "id": "30c3cf3e",
   "metadata": {},
   "outputs": [
    {
     "data": {
      "text/html": [
       "<div>\n",
       "<style scoped>\n",
       "    .dataframe tbody tr th:only-of-type {\n",
       "        vertical-align: middle;\n",
       "    }\n",
       "\n",
       "    .dataframe tbody tr th {\n",
       "        vertical-align: top;\n",
       "    }\n",
       "\n",
       "    .dataframe thead th {\n",
       "        text-align: right;\n",
       "    }\n",
       "</style>\n",
       "<table border=\"1\" class=\"dataframe\">\n",
       "  <thead>\n",
       "    <tr style=\"text-align: right;\">\n",
       "      <th></th>\n",
       "      <th>id</th>\n",
       "      <th>path</th>\n",
       "      <th>label</th>\n",
       "    </tr>\n",
       "  </thead>\n",
       "  <tbody>\n",
       "    <tr>\n",
       "      <th>0</th>\n",
       "      <td>000</td>\n",
       "      <td>./train/TRAIN_000.mp4</td>\n",
       "      <td>3</td>\n",
       "    </tr>\n",
       "    <tr>\n",
       "      <th>1</th>\n",
       "      <td>001</td>\n",
       "      <td>./train/TRAIN_001.mp4</td>\n",
       "      <td>0</td>\n",
       "    </tr>\n",
       "    <tr>\n",
       "      <th>2</th>\n",
       "      <td>002</td>\n",
       "      <td>./train/TRAIN_002.mp4</td>\n",
       "      <td>1</td>\n",
       "    </tr>\n",
       "    <tr>\n",
       "      <th>5</th>\n",
       "      <td>005</td>\n",
       "      <td>./train/TRAIN_005.mp4</td>\n",
       "      <td>0</td>\n",
       "    </tr>\n",
       "    <tr>\n",
       "      <th>6</th>\n",
       "      <td>006</td>\n",
       "      <td>./train/TRAIN_006.mp4</td>\n",
       "      <td>4</td>\n",
       "    </tr>\n",
       "    <tr>\n",
       "      <th>...</th>\n",
       "      <td>...</td>\n",
       "      <td>...</td>\n",
       "      <td>...</td>\n",
       "    </tr>\n",
       "    <tr>\n",
       "      <th>604</th>\n",
       "      <td>604</td>\n",
       "      <td>./train/TRAIN_604.mp4</td>\n",
       "      <td>0</td>\n",
       "    </tr>\n",
       "    <tr>\n",
       "      <th>605</th>\n",
       "      <td>605</td>\n",
       "      <td>./train/TRAIN_605.mp4</td>\n",
       "      <td>0</td>\n",
       "    </tr>\n",
       "    <tr>\n",
       "      <th>607</th>\n",
       "      <td>607</td>\n",
       "      <td>./train/TRAIN_607.mp4</td>\n",
       "      <td>1</td>\n",
       "    </tr>\n",
       "    <tr>\n",
       "      <th>608</th>\n",
       "      <td>608</td>\n",
       "      <td>./train/TRAIN_608.mp4</td>\n",
       "      <td>4</td>\n",
       "    </tr>\n",
       "    <tr>\n",
       "      <th>609</th>\n",
       "      <td>609</td>\n",
       "      <td>./train/TRAIN_609.mp4</td>\n",
       "      <td>0</td>\n",
       "    </tr>\n",
       "  </tbody>\n",
       "</table>\n",
       "<p>488 rows × 3 columns</p>\n",
       "</div>"
      ],
      "text/plain": [
       "      id                   path  label\n",
       "0    000  ./train/TRAIN_000.mp4      3\n",
       "1    001  ./train/TRAIN_001.mp4      0\n",
       "2    002  ./train/TRAIN_002.mp4      1\n",
       "5    005  ./train/TRAIN_005.mp4      0\n",
       "6    006  ./train/TRAIN_006.mp4      4\n",
       "..   ...                    ...    ...\n",
       "604  604  ./train/TRAIN_604.mp4      0\n",
       "605  605  ./train/TRAIN_605.mp4      0\n",
       "607  607  ./train/TRAIN_607.mp4      1\n",
       "608  608  ./train/TRAIN_608.mp4      4\n",
       "609  609  ./train/TRAIN_609.mp4      0\n",
       "\n",
       "[488 rows x 3 columns]"
      ]
     },
     "execution_count": 297,
     "metadata": {},
     "output_type": "execute_result"
    }
   ],
   "source": [
    "X_train"
   ]
  },
  {
   "cell_type": "code",
   "execution_count": 298,
   "id": "a6edc94b",
   "metadata": {},
   "outputs": [],
   "source": [
    "X_train['path'] = ['D:/ML/Handpose/open/' + path[2:] for path in X_train['path']]"
   ]
  },
  {
   "cell_type": "code",
   "execution_count": 299,
   "id": "969d5c99",
   "metadata": {},
   "outputs": [
    {
     "data": {
      "text/html": [
       "<div>\n",
       "<style scoped>\n",
       "    .dataframe tbody tr th:only-of-type {\n",
       "        vertical-align: middle;\n",
       "    }\n",
       "\n",
       "    .dataframe tbody tr th {\n",
       "        vertical-align: top;\n",
       "    }\n",
       "\n",
       "    .dataframe thead th {\n",
       "        text-align: right;\n",
       "    }\n",
       "</style>\n",
       "<table border=\"1\" class=\"dataframe\">\n",
       "  <thead>\n",
       "    <tr style=\"text-align: right;\">\n",
       "      <th></th>\n",
       "      <th>id</th>\n",
       "      <th>path</th>\n",
       "      <th>label</th>\n",
       "    </tr>\n",
       "  </thead>\n",
       "  <tbody>\n",
       "    <tr>\n",
       "      <th>0</th>\n",
       "      <td>000</td>\n",
       "      <td>D:/ML/Handpose/open/train/TRAIN_000.mp4</td>\n",
       "      <td>3</td>\n",
       "    </tr>\n",
       "    <tr>\n",
       "      <th>1</th>\n",
       "      <td>001</td>\n",
       "      <td>D:/ML/Handpose/open/train/TRAIN_001.mp4</td>\n",
       "      <td>0</td>\n",
       "    </tr>\n",
       "    <tr>\n",
       "      <th>2</th>\n",
       "      <td>002</td>\n",
       "      <td>D:/ML/Handpose/open/train/TRAIN_002.mp4</td>\n",
       "      <td>1</td>\n",
       "    </tr>\n",
       "    <tr>\n",
       "      <th>5</th>\n",
       "      <td>005</td>\n",
       "      <td>D:/ML/Handpose/open/train/TRAIN_005.mp4</td>\n",
       "      <td>0</td>\n",
       "    </tr>\n",
       "    <tr>\n",
       "      <th>6</th>\n",
       "      <td>006</td>\n",
       "      <td>D:/ML/Handpose/open/train/TRAIN_006.mp4</td>\n",
       "      <td>4</td>\n",
       "    </tr>\n",
       "    <tr>\n",
       "      <th>...</th>\n",
       "      <td>...</td>\n",
       "      <td>...</td>\n",
       "      <td>...</td>\n",
       "    </tr>\n",
       "    <tr>\n",
       "      <th>604</th>\n",
       "      <td>604</td>\n",
       "      <td>D:/ML/Handpose/open/train/TRAIN_604.mp4</td>\n",
       "      <td>0</td>\n",
       "    </tr>\n",
       "    <tr>\n",
       "      <th>605</th>\n",
       "      <td>605</td>\n",
       "      <td>D:/ML/Handpose/open/train/TRAIN_605.mp4</td>\n",
       "      <td>0</td>\n",
       "    </tr>\n",
       "    <tr>\n",
       "      <th>607</th>\n",
       "      <td>607</td>\n",
       "      <td>D:/ML/Handpose/open/train/TRAIN_607.mp4</td>\n",
       "      <td>1</td>\n",
       "    </tr>\n",
       "    <tr>\n",
       "      <th>608</th>\n",
       "      <td>608</td>\n",
       "      <td>D:/ML/Handpose/open/train/TRAIN_608.mp4</td>\n",
       "      <td>4</td>\n",
       "    </tr>\n",
       "    <tr>\n",
       "      <th>609</th>\n",
       "      <td>609</td>\n",
       "      <td>D:/ML/Handpose/open/train/TRAIN_609.mp4</td>\n",
       "      <td>0</td>\n",
       "    </tr>\n",
       "  </tbody>\n",
       "</table>\n",
       "<p>488 rows × 3 columns</p>\n",
       "</div>"
      ],
      "text/plain": [
       "      id                                     path  label\n",
       "0    000  D:/ML/Handpose/open/train/TRAIN_000.mp4      3\n",
       "1    001  D:/ML/Handpose/open/train/TRAIN_001.mp4      0\n",
       "2    002  D:/ML/Handpose/open/train/TRAIN_002.mp4      1\n",
       "5    005  D:/ML/Handpose/open/train/TRAIN_005.mp4      0\n",
       "6    006  D:/ML/Handpose/open/train/TRAIN_006.mp4      4\n",
       "..   ...                                      ...    ...\n",
       "604  604  D:/ML/Handpose/open/train/TRAIN_604.mp4      0\n",
       "605  605  D:/ML/Handpose/open/train/TRAIN_605.mp4      0\n",
       "607  607  D:/ML/Handpose/open/train/TRAIN_607.mp4      1\n",
       "608  608  D:/ML/Handpose/open/train/TRAIN_608.mp4      4\n",
       "609  609  D:/ML/Handpose/open/train/TRAIN_609.mp4      0\n",
       "\n",
       "[488 rows x 3 columns]"
      ]
     },
     "execution_count": 299,
     "metadata": {},
     "output_type": "execute_result"
    }
   ],
   "source": [
    "X_train"
   ]
  },
  {
   "cell_type": "code",
   "execution_count": 300,
   "id": "00785ef5",
   "metadata": {},
   "outputs": [],
   "source": [
    "X_test = X_test.sort_values(by=['id'])"
   ]
  },
  {
   "cell_type": "code",
   "execution_count": 301,
   "id": "fcd81d48",
   "metadata": {},
   "outputs": [],
   "source": [
    "X_test['id'] = [path[6:] for path in X_test['id']]"
   ]
  },
  {
   "cell_type": "code",
   "execution_count": 302,
   "id": "2ac29ca6",
   "metadata": {},
   "outputs": [],
   "source": [
    "X_test['path'] = ['D:/ML/Handpose/open/' + path[2:] for path in X_test['path']]"
   ]
  },
  {
   "cell_type": "code",
   "execution_count": 303,
   "id": "a83f508b",
   "metadata": {},
   "outputs": [
    {
     "data": {
      "text/html": [
       "<div>\n",
       "<style scoped>\n",
       "    .dataframe tbody tr th:only-of-type {\n",
       "        vertical-align: middle;\n",
       "    }\n",
       "\n",
       "    .dataframe tbody tr th {\n",
       "        vertical-align: top;\n",
       "    }\n",
       "\n",
       "    .dataframe thead th {\n",
       "        text-align: right;\n",
       "    }\n",
       "</style>\n",
       "<table border=\"1\" class=\"dataframe\">\n",
       "  <thead>\n",
       "    <tr style=\"text-align: right;\">\n",
       "      <th></th>\n",
       "      <th>id</th>\n",
       "      <th>path</th>\n",
       "      <th>label</th>\n",
       "    </tr>\n",
       "  </thead>\n",
       "  <tbody>\n",
       "    <tr>\n",
       "      <th>3</th>\n",
       "      <td>003</td>\n",
       "      <td>D:/ML/Handpose/open/train/TRAIN_003.mp4</td>\n",
       "      <td>4</td>\n",
       "    </tr>\n",
       "    <tr>\n",
       "      <th>4</th>\n",
       "      <td>004</td>\n",
       "      <td>D:/ML/Handpose/open/train/TRAIN_004.mp4</td>\n",
       "      <td>4</td>\n",
       "    </tr>\n",
       "    <tr>\n",
       "      <th>12</th>\n",
       "      <td>012</td>\n",
       "      <td>D:/ML/Handpose/open/train/TRAIN_012.mp4</td>\n",
       "      <td>2</td>\n",
       "    </tr>\n",
       "    <tr>\n",
       "      <th>13</th>\n",
       "      <td>013</td>\n",
       "      <td>D:/ML/Handpose/open/train/TRAIN_013.mp4</td>\n",
       "      <td>1</td>\n",
       "    </tr>\n",
       "    <tr>\n",
       "      <th>14</th>\n",
       "      <td>014</td>\n",
       "      <td>D:/ML/Handpose/open/train/TRAIN_014.mp4</td>\n",
       "      <td>3</td>\n",
       "    </tr>\n",
       "    <tr>\n",
       "      <th>...</th>\n",
       "      <td>...</td>\n",
       "      <td>...</td>\n",
       "      <td>...</td>\n",
       "    </tr>\n",
       "    <tr>\n",
       "      <th>594</th>\n",
       "      <td>594</td>\n",
       "      <td>D:/ML/Handpose/open/train/TRAIN_594.mp4</td>\n",
       "      <td>4</td>\n",
       "    </tr>\n",
       "    <tr>\n",
       "      <th>596</th>\n",
       "      <td>596</td>\n",
       "      <td>D:/ML/Handpose/open/train/TRAIN_596.mp4</td>\n",
       "      <td>1</td>\n",
       "    </tr>\n",
       "    <tr>\n",
       "      <th>599</th>\n",
       "      <td>599</td>\n",
       "      <td>D:/ML/Handpose/open/train/TRAIN_599.mp4</td>\n",
       "      <td>3</td>\n",
       "    </tr>\n",
       "    <tr>\n",
       "      <th>601</th>\n",
       "      <td>601</td>\n",
       "      <td>D:/ML/Handpose/open/train/TRAIN_601.mp4</td>\n",
       "      <td>1</td>\n",
       "    </tr>\n",
       "    <tr>\n",
       "      <th>606</th>\n",
       "      <td>606</td>\n",
       "      <td>D:/ML/Handpose/open/train/TRAIN_606.mp4</td>\n",
       "      <td>2</td>\n",
       "    </tr>\n",
       "  </tbody>\n",
       "</table>\n",
       "<p>122 rows × 3 columns</p>\n",
       "</div>"
      ],
      "text/plain": [
       "      id                                     path  label\n",
       "3    003  D:/ML/Handpose/open/train/TRAIN_003.mp4      4\n",
       "4    004  D:/ML/Handpose/open/train/TRAIN_004.mp4      4\n",
       "12   012  D:/ML/Handpose/open/train/TRAIN_012.mp4      2\n",
       "13   013  D:/ML/Handpose/open/train/TRAIN_013.mp4      1\n",
       "14   014  D:/ML/Handpose/open/train/TRAIN_014.mp4      3\n",
       "..   ...                                      ...    ...\n",
       "594  594  D:/ML/Handpose/open/train/TRAIN_594.mp4      4\n",
       "596  596  D:/ML/Handpose/open/train/TRAIN_596.mp4      1\n",
       "599  599  D:/ML/Handpose/open/train/TRAIN_599.mp4      3\n",
       "601  601  D:/ML/Handpose/open/train/TRAIN_601.mp4      1\n",
       "606  606  D:/ML/Handpose/open/train/TRAIN_606.mp4      2\n",
       "\n",
       "[122 rows x 3 columns]"
      ]
     },
     "execution_count": 303,
     "metadata": {},
     "output_type": "execute_result"
    }
   ],
   "source": [
    "X_test"
   ]
  },
  {
   "cell_type": "code",
   "execution_count": 304,
   "id": "a5be29fe",
   "metadata": {},
   "outputs": [],
   "source": [
    "class CustomDataset(Sequence):\n",
    "    def __init__(self, x_set, y_set, batch_size, augmentations, shuffle = True):\n",
    "        self.y = y_set\n",
    "        self.x = x_set\n",
    "        self.batch_size = batch_size\n",
    "        self.augment = augmentations\n",
    "        self.indexes = np.arange(self.x.shape[0])\n",
    "        self.shuffle = shuffle\n",
    "        self.on_epoch_end()\n",
    "    def on_epoch_end(self):\n",
    "        'Updates indexes after each epoch'\n",
    "        if self.shuffle == True:\n",
    "            np.random.shuffle(self.indexes)\n",
    "    def __len__(self):\n",
    "        return int(np.ceil(len(self.x) / float(self.batch_size)))\n",
    "    def get_Video(self, path):\n",
    "        frames = []\n",
    "        cap = cv2.VideoCapture(path)\n",
    "        for _ in range(30):\n",
    "            _, img = cap.read()\n",
    "            img = np.array(cv2.cvtColor(img, cv2.COLOR_BGR2RGB))\n",
    "            #img = np.array(cv2.COLOR_BGR2RGB(img))\n",
    "            img = self.augment(image = img)[\"image\"]\n",
    "            frames.append(img)\n",
    "        return np.array(frames)\n",
    "\n",
    "    # 지정 배치 크기만큼 데이터를 로드합니다.\n",
    "    def __getitem__(self, idx):\n",
    "        inds = self.indexes[idx * self.batch_size:(idx + 1) * self.batch_size]\n",
    "        img_path = self.x[inds]\n",
    "        batch_x = [self.get_Video(x)for x in img_path]\n",
    "        batch_y = self.y[inds]\n",
    "        \n",
    "        # augmentation을 적용해서 numpy array에 stack합니다.\n",
    "        return np.array(batch_x), np.array(batch_y)"
   ]
  },
  {
   "cell_type": "code",
   "execution_count": 305,
   "id": "b6275ca3",
   "metadata": {},
   "outputs": [],
   "source": [
    "train_transform = A.Compose([A.Resize(128,128),\n",
    "                             A.HorizontalFlip(p=0.5), A.VerticalFlip(p=0.5), A.Rotate(limit= 90),\n",
    "                             A.Normalize(mean=(0.485, 0.456, 0.406), \n",
    "                            std=(0.229, 0.224, 0.225),\n",
    "                            max_pixel_value=255.0, always_apply=False, p=1.0)])\n",
    "test_transform = A.Compose([A.Resize(128,128),A.Normalize(mean=(0.485, 0.456, 0.406),\n",
    "                            std=(0.229, 0.224, 0.225), max_pixel_value=255.0, always_apply=False, p=1.0)])"
   ]
  },
  {
   "cell_type": "code",
   "execution_count": 306,
   "id": "1d94ea2a",
   "metadata": {},
   "outputs": [],
   "source": [
    "def get_data(df, infer = False):\n",
    "    if infer:\n",
    "        return df['path'].values, df['id'].values\n",
    "    return df['path'].values, df['label'].values"
   ]
  },
  {
   "cell_type": "code",
   "execution_count": 307,
   "id": "0f03b50d",
   "metadata": {},
   "outputs": [],
   "source": [
    "train_x, train_y = get_data(X_train)\n",
    "test_x, test_y = get_data(X_test)"
   ]
  },
  {
   "cell_type": "code",
   "execution_count": 308,
   "id": "b7dcf05c",
   "metadata": {},
   "outputs": [
    {
     "data": {
      "text/plain": [
       "(488,)"
      ]
     },
     "execution_count": 308,
     "metadata": {},
     "output_type": "execute_result"
    }
   ],
   "source": [
    "train_y.shape"
   ]
  },
  {
   "cell_type": "code",
   "execution_count": 309,
   "id": "239ec0da",
   "metadata": {},
   "outputs": [],
   "source": [
    "frames = []\n",
    "cap = cv2.VideoCapture(train_x[0])\n",
    "for _ in range(30):\n",
    "    _, img = cap.read()\n",
    "    img = np.array(cv2.cvtColor(img, cv2.COLOR_BGR2RGB))\n",
    "    img = train_transform(image = img)[\"image\"]\n",
    "    #img = np.array(cv2.COLOR_BGR2RGB(img))\n",
    "    frames.append(img)"
   ]
  },
  {
   "cell_type": "code",
   "execution_count": 310,
   "id": "18101a81",
   "metadata": {},
   "outputs": [
    {
     "data": {
      "text/plain": [
       "(30, 128, 128, 3)"
      ]
     },
     "execution_count": 310,
     "metadata": {},
     "output_type": "execute_result"
    }
   ],
   "source": [
    "frame = np.array(frames)\n",
    "frame.shape"
   ]
  },
  {
   "cell_type": "code",
   "execution_count": 311,
   "id": "f4cfbb97",
   "metadata": {},
   "outputs": [
    {
     "name": "stderr",
     "output_type": "stream",
     "text": [
      "Clipping input data to the valid range for imshow with RGB data ([0..1] for floats or [0..255] for integers).\n"
     ]
    },
    {
     "data": {
      "text/plain": [
       "<matplotlib.image.AxesImage at 0x269ed1a2fe0>"
      ]
     },
     "execution_count": 311,
     "metadata": {},
     "output_type": "execute_result"
    },
    {
     "data": {
      "image/png": "[encoded data removed]",
      "text/plain": [
       "<Figure size 640x480 with 1 Axes>"
      ]
     },
     "metadata": {},
     "output_type": "display_data"
    }
   ],
   "source": [
    "import matplotlib.pyplot as plt\n",
    "plt.imshow(frame[0])"
   ]
  },
  {
   "cell_type": "code",
   "execution_count": 312,
   "id": "526d4a66",
   "metadata": {},
   "outputs": [],
   "source": [
    "train_dataset = CustomDataset(train_x, train_y, 16, train_transform)\n",
    "test_dataset = CustomDataset(test_x, test_y, 16, train_transform)"
   ]
  },
  {
   "cell_type": "markdown",
   "id": "1f31f818",
   "metadata": {},
   "source": [
    "# Make Model"
   ]
  },
  {
   "cell_type": "code",
   "execution_count": 313,
   "id": "abc01aa8",
   "metadata": {},
   "outputs": [],
   "source": [
    "model = Sequential()\n",
    "#model.add(Permute((4, 1, 2, 3), input_shape = (30, 128, 128, 3)))\n",
    "model.add(Conv3D(8, (3, 3, 3), activation='relu',input_shape = (30, 128, 128, 3)))\n",
    "model.add(BatchNormalization())\n",
    "model.add(MaxPooling3D(2))\n",
    "model.add(Conv3D(32, (2, 2, 2), activation='relu'))\n",
    "model.add(BatchNormalization())\n",
    "model.add(MaxPooling3D(2))\n",
    "model.add(Conv3D(64, (2, 2, 2), activation='relu'))\n",
    "model.add(BatchNormalization())\n",
    "model.add(MaxPooling3D(2))\n",
    "model.add(Conv3D(128, (2, 2, 2), activation='relu'))\n",
    "model.add(BatchNormalization())\n",
    "model.add(MaxPooling3D((1, 7, 7)))\n",
    "model.add(Flatten())\n",
    "model.add(Dense(512, activation='relu'))\n",
    "model.add(Dense(256, activation='relu'))\n",
    "model.add(Dense(128, activation='relu'))\n",
    "model.add(Dense(5, activation='softmax'))"
   ]
  },
  {
   "cell_type": "code",
   "execution_count": 314,
   "id": "6731028e",
   "metadata": {},
   "outputs": [],
   "source": [
    "model.compile(optimizer='adam', loss='sparse_categorical_crossentropy', metrics=['accuracy'])"
   ]
  },
  {
   "cell_type": "code",
   "execution_count": 315,
   "id": "4ca7ed67",
   "metadata": {},
   "outputs": [
    {
     "name": "stdout",
     "output_type": "stream",
     "text": [
      "Model: \"sequential_26\"\n",
      "_________________________________________________________________\n",
      " Layer (type)                Output Shape              Param #   \n",
      "=================================================================\n",
      " conv3d_77 (Conv3D)          (None, 28, 126, 126, 8)   656       \n",
      "                                                                 \n",
      " batch_normalization_73 (Bat  (None, 28, 126, 126, 8)  32        \n",
      " chNormalization)                                                \n",
      "                                                                 \n",
      " max_pooling3d_72 (MaxPoolin  (None, 14, 63, 63, 8)    0         \n",
      " g3D)                                                            \n",
      "                                                                 \n",
      " conv3d_78 (Conv3D)          (None, 13, 62, 62, 32)    2080      \n",
      "                                                                 \n",
      " batch_normalization_74 (Bat  (None, 13, 62, 62, 32)   128       \n",
      " chNormalization)                                                \n",
      "                                                                 \n",
      " max_pooling3d_73 (MaxPoolin  (None, 6, 31, 31, 32)    0         \n",
      " g3D)                                                            \n",
      "                                                                 \n",
      " conv3d_79 (Conv3D)          (None, 5, 30, 30, 64)     16448     \n",
      "                                                                 \n",
      " batch_normalization_75 (Bat  (None, 5, 30, 30, 64)    256       \n",
      " chNormalization)                                                \n",
      "                                                                 \n",
      " max_pooling3d_74 (MaxPoolin  (None, 2, 15, 15, 64)    0         \n",
      " g3D)                                                            \n",
      "                                                                 \n",
      " conv3d_80 (Conv3D)          (None, 1, 14, 14, 128)    65664     \n",
      "                                                                 \n",
      " batch_normalization_76 (Bat  (None, 1, 14, 14, 128)   512       \n",
      " chNormalization)                                                \n",
      "                                                                 \n",
      " max_pooling3d_75 (MaxPoolin  (None, 1, 2, 2, 128)     0         \n",
      " g3D)                                                            \n",
      "                                                                 \n",
      " flatten_17 (Flatten)        (None, 512)               0         \n",
      "                                                                 \n",
      " dense_20 (Dense)            (None, 512)               262656    \n",
      "                                                                 \n",
      " dense_21 (Dense)            (None, 256)               131328    \n",
      "                                                                 \n",
      " dense_22 (Dense)            (None, 128)               32896     \n",
      "                                                                 \n",
      " dense_23 (Dense)            (None, 5)                 645       \n",
      "                                                                 \n",
      "=================================================================\n",
      "Total params: 513,301\n",
      "Trainable params: 512,837\n",
      "Non-trainable params: 464\n",
      "_________________________________________________________________\n"
     ]
    }
   ],
   "source": [
    "model.summary()"
   ]
  },
  {
   "cell_type": "code",
   "execution_count": 316,
   "id": "b57e6559",
   "metadata": {},
   "outputs": [
    {
     "name": "stdout",
     "output_type": "stream",
     "text": [
      "[name: \"/device:CPU:0\"\n",
      "device_type: \"CPU\"\n",
      "memory_limit: 268435456\n",
      "locality {\n",
      "}\n",
      "incarnation: 6289754911945305631\n",
      "xla_global_id: -1\n",
      ", name: \"/device:GPU:0\"\n",
      "device_type: \"GPU\"\n",
      "memory_limit: 22722641920\n",
      "locality {\n",
      "  bus_id: 1\n",
      "  links {\n",
      "  }\n",
      "}\n",
      "incarnation: 588144237646504392\n",
      "physical_device_desc: \"device: 0, name: NVIDIA GeForce RTX 3090, pci bus id: 0000:01:00.0, compute capability: 8.6\"\n",
      "xla_global_id: 416903419\n",
      "]\n"
     ]
    }
   ],
   "source": [
    "import os\n",
    "os.environ[\"CUDA_VISIBLE_DEVICES\"] = \"0\"\n",
    "from tensorflow.python.client import device_lib\n",
    "\n",
    "print(device_lib.list_local_devices())\n",
    "os.environ[\"CUDA_VISIBLE_DEVICES\"] = \"0\""
   ]
  },
  {
   "cell_type": "code",
   "execution_count": 317,
   "id": "55683b1b",
   "metadata": {},
   "outputs": [
    {
     "name": "stdout",
     "output_type": "stream",
     "text": [
      "WARNING:tensorflow:`epsilon` argument is deprecated and will be removed, use `min_delta` instead.\n"
     ]
    }
   ],
   "source": [
    "earlyStopping = EarlyStopping(monitor='val_loss', patience=10, verbose=0, mode='min')\n",
    "mcp_save = ModelCheckpoint('D:/ML/Handpose/open/model.h5', save_best_only=True, monitor='val_accuracy', mode='max',save_weights_only=True)\n",
    "reduce_lr_loss = ReduceLROnPlateau(monitor='val_loss', factor=0.1, patience=7, verbose=1, epsilon=1e-4, mode='min')"
   ]
  },
  {
   "cell_type": "code",
   "execution_count": null,
   "id": "1f027e00",
   "metadata": {},
   "outputs": [
    {
     "name": "stdout",
     "output_type": "stream",
     "text": [
      "Epoch 1/30\n",
      "31/31 [==============================] - 13s 415ms/step - loss: 1.9071 - accuracy: 0.3443 - val_loss: 1.5926 - val_accuracy: 0.2541 - lr: 0.0010\n",
      "Epoch 2/30\n",
      "31/31 [==============================] - 13s 403ms/step - loss: 1.4463 - accuracy: 0.4078 - val_loss: 1.4631 - val_accuracy: 0.3361 - lr: 0.0010\n",
      "Epoch 3/30\n",
      "31/31 [==============================] - 13s 402ms/step - loss: 1.3532 - accuracy: 0.4406 - val_loss: 1.3753 - val_accuracy: 0.4590 - lr: 0.0010\n",
      "Epoch 4/30\n",
      "31/31 [==============================] - 13s 412ms/step - loss: 1.1471 - accuracy: 0.5000 - val_loss: 1.2833 - val_accuracy: 0.4590 - lr: 0.0010\n",
      "Epoch 5/30\n",
      "31/31 [==============================] - 13s 406ms/step - loss: 1.1793 - accuracy: 0.5143 - val_loss: 1.3303 - val_accuracy: 0.4098 - lr: 0.0010\n",
      "Epoch 6/30\n",
      "31/31 [==============================] - ETA: 0s - loss: 1.0676 - accuracy: 0.5123"
     ]
    }
   ],
   "source": [
    "history = model.fit(train_dataset, epochs= 30, validation_data=test_dataset,\n",
    "                    callbacks=[earlyStopping, mcp_save, reduce_lr_loss])"
   ]
  },
  {
   "cell_type": "code",
   "execution_count": 274,
   "id": "e21053c9",
   "metadata": {},
   "outputs": [],
   "source": [
    "result = pd.read_csv('./open/test.csv')"
   ]
  },
  {
   "cell_type": "code",
   "execution_count": 275,
   "id": "f6535f24",
   "metadata": {},
   "outputs": [
    {
     "data": {
      "text/html": [
       "<div>\n",
       "<style scoped>\n",
       "    .dataframe tbody tr th:only-of-type {\n",
       "        vertical-align: middle;\n",
       "    }\n",
       "\n",
       "    .dataframe tbody tr th {\n",
       "        vertical-align: top;\n",
       "    }\n",
       "\n",
       "    .dataframe thead th {\n",
       "        text-align: right;\n",
       "    }\n",
       "</style>\n",
       "<table border=\"1\" class=\"dataframe\">\n",
       "  <thead>\n",
       "    <tr style=\"text-align: right;\">\n",
       "      <th></th>\n",
       "      <th>id</th>\n",
       "      <th>path</th>\n",
       "    </tr>\n",
       "  </thead>\n",
       "  <tbody>\n",
       "    <tr>\n",
       "      <th>0</th>\n",
       "      <td>TEST_000</td>\n",
       "      <td>./test/TEST_000.mp4</td>\n",
       "    </tr>\n",
       "    <tr>\n",
       "      <th>1</th>\n",
       "      <td>TEST_001</td>\n",
       "      <td>./test/TEST_001.mp4</td>\n",
       "    </tr>\n",
       "    <tr>\n",
       "      <th>2</th>\n",
       "      <td>TEST_002</td>\n",
       "      <td>./test/TEST_002.mp4</td>\n",
       "    </tr>\n",
       "    <tr>\n",
       "      <th>3</th>\n",
       "      <td>TEST_003</td>\n",
       "      <td>./test/TEST_003.mp4</td>\n",
       "    </tr>\n",
       "    <tr>\n",
       "      <th>4</th>\n",
       "      <td>TEST_004</td>\n",
       "      <td>./test/TEST_004.mp4</td>\n",
       "    </tr>\n",
       "    <tr>\n",
       "      <th>...</th>\n",
       "      <td>...</td>\n",
       "      <td>...</td>\n",
       "    </tr>\n",
       "    <tr>\n",
       "      <th>148</th>\n",
       "      <td>TEST_148</td>\n",
       "      <td>./test/TEST_148.mp4</td>\n",
       "    </tr>\n",
       "    <tr>\n",
       "      <th>149</th>\n",
       "      <td>TEST_149</td>\n",
       "      <td>./test/TEST_149.mp4</td>\n",
       "    </tr>\n",
       "    <tr>\n",
       "      <th>150</th>\n",
       "      <td>TEST_150</td>\n",
       "      <td>./test/TEST_150.mp4</td>\n",
       "    </tr>\n",
       "    <tr>\n",
       "      <th>151</th>\n",
       "      <td>TEST_151</td>\n",
       "      <td>./test/TEST_151.mp4</td>\n",
       "    </tr>\n",
       "    <tr>\n",
       "      <th>152</th>\n",
       "      <td>TEST_152</td>\n",
       "      <td>./test/TEST_152.mp4</td>\n",
       "    </tr>\n",
       "  </tbody>\n",
       "</table>\n",
       "<p>153 rows × 2 columns</p>\n",
       "</div>"
      ],
      "text/plain": [
       "           id                 path\n",
       "0    TEST_000  ./test/TEST_000.mp4\n",
       "1    TEST_001  ./test/TEST_001.mp4\n",
       "2    TEST_002  ./test/TEST_002.mp4\n",
       "3    TEST_003  ./test/TEST_003.mp4\n",
       "4    TEST_004  ./test/TEST_004.mp4\n",
       "..        ...                  ...\n",
       "148  TEST_148  ./test/TEST_148.mp4\n",
       "149  TEST_149  ./test/TEST_149.mp4\n",
       "150  TEST_150  ./test/TEST_150.mp4\n",
       "151  TEST_151  ./test/TEST_151.mp4\n",
       "152  TEST_152  ./test/TEST_152.mp4\n",
       "\n",
       "[153 rows x 2 columns]"
      ]
     },
     "execution_count": 275,
     "metadata": {},
     "output_type": "execute_result"
    }
   ],
   "source": [
    "result"
   ]
  },
  {
   "cell_type": "code",
   "execution_count": 276,
   "id": "f38aff76",
   "metadata": {},
   "outputs": [],
   "source": [
    "result['path'] = ['D:/ML/Handpose/open/' + path[2:] for path in result['path']]"
   ]
  },
  {
   "cell_type": "code",
   "execution_count": 277,
   "id": "901dc647",
   "metadata": {},
   "outputs": [],
   "source": [
    "result_path, result_y = get_data(result, infer=True)"
   ]
  },
  {
   "cell_type": "code",
   "execution_count": 278,
   "id": "93930d2f",
   "metadata": {},
   "outputs": [],
   "source": [
    "result_Gen = CustomDataset(result_path, result_y, 16, test_transform, shuffle=False)"
   ]
  },
  {
   "cell_type": "code",
   "execution_count": 279,
   "id": "d8b227d4",
   "metadata": {},
   "outputs": [
    {
     "name": "stdout",
     "output_type": "stream",
     "text": [
      "10/10 [==============================] - 3s 269ms/step\n"
     ]
    }
   ],
   "source": [
    "Test_Predic = model.predict(result_Gen)"
   ]
  },
  {
   "cell_type": "code",
   "execution_count": 280,
   "id": "d3438d0d",
   "metadata": {},
   "outputs": [
    {
     "data": {
      "text/plain": [
       "(153, 5)"
      ]
     },
     "execution_count": 280,
     "metadata": {},
     "output_type": "execute_result"
    }
   ],
   "source": [
    "Test_Predic.shape"
   ]
  },
  {
   "cell_type": "code",
   "execution_count": 282,
   "id": "c501ca72",
   "metadata": {},
   "outputs": [
    {
     "data": {
      "text/plain": [
       "array([1, 3, 0, 2, 4, 2, 4, 3, 0, 2, 2, 2, 0, 4, 1, 4, 3, 1, 0, 1, 2, 2,\n",
       "       2, 3, 2, 3, 1, 4, 4, 0, 3, 0, 0, 4, 3, 4, 2, 3, 2, 0, 2, 4, 4, 3,\n",
       "       3, 4, 4, 2, 4, 1, 3, 1, 4, 0, 1, 3, 2, 2, 0, 4, 0, 3, 4, 2, 4, 2,\n",
       "       1, 0, 2, 4, 3, 1, 3, 3, 3, 0, 4, 4, 3, 0, 0, 3, 2, 1, 3, 2, 4, 3,\n",
       "       0, 2, 1, 2, 2, 0, 2, 1, 4, 0, 2, 3, 2, 4, 1, 4, 0, 2, 0, 0, 3, 1,\n",
       "       0, 1, 4, 3, 1, 1, 0, 1, 1, 3, 4, 3, 1, 2, 3, 4, 0, 2, 1, 4, 0, 0,\n",
       "       4, 2, 4, 4, 0, 2, 2, 0, 0, 0, 4, 1, 3, 1, 2, 2, 2, 0, 0, 2, 2],\n",
       "      dtype=int64)"
      ]
     },
     "execution_count": 282,
     "metadata": {},
     "output_type": "execute_result"
    }
   ],
   "source": [
    "Test_Predic = np.argmax(Test_Predic, axis = 1)\n",
    "Test_Predic"
   ]
  },
  {
   "cell_type": "code",
   "execution_count": 283,
   "id": "b068016b",
   "metadata": {},
   "outputs": [],
   "source": [
    "submit = pd.read_csv(\"./open/sample_submission.csv\")"
   ]
  },
  {
   "cell_type": "code",
   "execution_count": 284,
   "id": "537a4a89",
   "metadata": {},
   "outputs": [
    {
     "data": {
      "text/html": [
       "<div>\n",
       "<style scoped>\n",
       "    .dataframe tbody tr th:only-of-type {\n",
       "        vertical-align: middle;\n",
       "    }\n",
       "\n",
       "    .dataframe tbody tr th {\n",
       "        vertical-align: top;\n",
       "    }\n",
       "\n",
       "    .dataframe thead th {\n",
       "        text-align: right;\n",
       "    }\n",
       "</style>\n",
       "<table border=\"1\" class=\"dataframe\">\n",
       "  <thead>\n",
       "    <tr style=\"text-align: right;\">\n",
       "      <th></th>\n",
       "      <th>id</th>\n",
       "      <th>label</th>\n",
       "    </tr>\n",
       "  </thead>\n",
       "  <tbody>\n",
       "    <tr>\n",
       "      <th>0</th>\n",
       "      <td>TEST_000</td>\n",
       "      <td>0</td>\n",
       "    </tr>\n",
       "    <tr>\n",
       "      <th>1</th>\n",
       "      <td>TEST_001</td>\n",
       "      <td>0</td>\n",
       "    </tr>\n",
       "    <tr>\n",
       "      <th>2</th>\n",
       "      <td>TEST_002</td>\n",
       "      <td>0</td>\n",
       "    </tr>\n",
       "    <tr>\n",
       "      <th>3</th>\n",
       "      <td>TEST_003</td>\n",
       "      <td>0</td>\n",
       "    </tr>\n",
       "    <tr>\n",
       "      <th>4</th>\n",
       "      <td>TEST_004</td>\n",
       "      <td>0</td>\n",
       "    </tr>\n",
       "    <tr>\n",
       "      <th>...</th>\n",
       "      <td>...</td>\n",
       "      <td>...</td>\n",
       "    </tr>\n",
       "    <tr>\n",
       "      <th>148</th>\n",
       "      <td>TEST_148</td>\n",
       "      <td>0</td>\n",
       "    </tr>\n",
       "    <tr>\n",
       "      <th>149</th>\n",
       "      <td>TEST_149</td>\n",
       "      <td>0</td>\n",
       "    </tr>\n",
       "    <tr>\n",
       "      <th>150</th>\n",
       "      <td>TEST_150</td>\n",
       "      <td>0</td>\n",
       "    </tr>\n",
       "    <tr>\n",
       "      <th>151</th>\n",
       "      <td>TEST_151</td>\n",
       "      <td>0</td>\n",
       "    </tr>\n",
       "    <tr>\n",
       "      <th>152</th>\n",
       "      <td>TEST_152</td>\n",
       "      <td>0</td>\n",
       "    </tr>\n",
       "  </tbody>\n",
       "</table>\n",
       "<p>153 rows × 2 columns</p>\n",
       "</div>"
      ],
      "text/plain": [
       "           id  label\n",
       "0    TEST_000      0\n",
       "1    TEST_001      0\n",
       "2    TEST_002      0\n",
       "3    TEST_003      0\n",
       "4    TEST_004      0\n",
       "..        ...    ...\n",
       "148  TEST_148      0\n",
       "149  TEST_149      0\n",
       "150  TEST_150      0\n",
       "151  TEST_151      0\n",
       "152  TEST_152      0\n",
       "\n",
       "[153 rows x 2 columns]"
      ]
     },
     "execution_count": 284,
     "metadata": {},
     "output_type": "execute_result"
    }
   ],
   "source": [
    "submit"
   ]
  },
  {
   "cell_type": "code",
   "execution_count": 286,
   "id": "7a2cea6a",
   "metadata": {},
   "outputs": [],
   "source": [
    "submit['label'] = Test_Predic"
   ]
  },
  {
   "cell_type": "code",
   "execution_count": 287,
   "id": "b28ac55f",
   "metadata": {},
   "outputs": [],
   "source": [
    "submit.to_csv('./submit.csv', index=False)"
   ]
  },
  {
   "cell_type": "code",
   "execution_count": null,
   "id": "97b941f3",
   "metadata": {},
   "outputs": [],
   "source": []
  }
 ],
 "metadata": {
  "kernelspec": {
   "display_name": "Python 3 (ipykernel)",
   "language": "python",
   "name": "python3"
  },
  "language_info": {
   "codemirror_mode": {
    "name": "ipython",
    "version": 3
   },
   "file_extension": ".py",
   "mimetype": "text/x-python",
   "name": "python",
   "nbconvert_exporter": "python",
   "pygments_lexer": "ipython3",
   "version": "3.10.6"
  }
 },
 "nbformat": 4,
 "nbformat_minor": 5
}
