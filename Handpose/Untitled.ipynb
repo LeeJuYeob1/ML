{
 "cells": [
  {
   "cell_type": "markdown",
   "id": "7ca94a0b",
   "metadata": {},
   "source": [
    "## Import"
   ]
  },
  {
   "cell_type": "code",
   "execution_count": 217,
   "id": "3bae9251",
   "metadata": {},
   "outputs": [],
   "source": [
    "import random\n",
    "import pandas as pd\n",
    "import numpy as np\n",
    "import os\n",
    "import cv2\n",
    "\n",
    "from sklearn import preprocessing\n",
    "from tensorflow.keras import models, layers, Model, regularizers\n",
    "from tensorflow.keras.models import Sequential, load_model\n",
    "from tensorflow.keras.layers import Conv2D, MaxPooling2D, Permute, Conv3D, MaxPooling3D\n",
    "from tensorflow.keras.layers import Dense, Dropout, Flatten, GlobalAveragePooling2D, BatchNormalization\n",
    "from tensorflow.keras.layers import Flatten, Dense, Dropout, ZeroPadding2D \n",
    "from tensorflow.keras.preprocessing.image import ImageDataGenerator\n",
    "from tensorflow.keras.callbacks import ModelCheckpoint, TensorBoard, ReduceLROnPlateau, EarlyStopping\n",
    "from tensorflow.keras import optimizers\n",
    "from tensorflow.keras.optimizers import SGD\n",
    "from tensorflow.keras.models import Model\n",
    "from tensorflow.keras.preprocessing import image\n",
    "from tensorflow.keras.applications import EfficientNetB4, EfficientNetB6, ResNet50V2, EfficientNetB0\n",
    "#from keras_tuner.tuners import RandomSearch\n",
    "from tensorflow.keras.utils import Sequence ,to_categorical\n",
    "\n",
    "import albumentations as A\n",
    "\n",
    "from sklearn.model_selection import train_test_split\n",
    "from sklearn.metrics import f1_score\n",
    "\n",
    "import warnings"
   ]
  },
  {
   "cell_type": "markdown",
   "id": "f769bda8",
   "metadata": {},
   "source": [
    "# Make DataSet"
   ]
  },
  {
   "cell_type": "code",
   "execution_count": 218,
   "id": "e33634a0",
   "metadata": {},
   "outputs": [],
   "source": [
    "df = pd.read_csv('./open/train.csv')"
   ]
  },
  {
   "cell_type": "code",
   "execution_count": 219,
   "id": "16c49c3a",
   "metadata": {},
   "outputs": [
    {
     "data": {
      "text/html": [
       "<div>\n",
       "<style scoped>\n",
       "    .dataframe tbody tr th:only-of-type {\n",
       "        vertical-align: middle;\n",
       "    }\n",
       "\n",
       "    .dataframe tbody tr th {\n",
       "        vertical-align: top;\n",
       "    }\n",
       "\n",
       "    .dataframe thead th {\n",
       "        text-align: right;\n",
       "    }\n",
       "</style>\n",
       "<table border=\"1\" class=\"dataframe\">\n",
       "  <thead>\n",
       "    <tr style=\"text-align: right;\">\n",
       "      <th></th>\n",
       "      <th>id</th>\n",
       "      <th>path</th>\n",
       "      <th>label</th>\n",
       "    </tr>\n",
       "  </thead>\n",
       "  <tbody>\n",
       "    <tr>\n",
       "      <th>0</th>\n",
       "      <td>TRAIN_000</td>\n",
       "      <td>./train/TRAIN_000.mp4</td>\n",
       "      <td>3</td>\n",
       "    </tr>\n",
       "    <tr>\n",
       "      <th>1</th>\n",
       "      <td>TRAIN_001</td>\n",
       "      <td>./train/TRAIN_001.mp4</td>\n",
       "      <td>0</td>\n",
       "    </tr>\n",
       "    <tr>\n",
       "      <th>2</th>\n",
       "      <td>TRAIN_002</td>\n",
       "      <td>./train/TRAIN_002.mp4</td>\n",
       "      <td>1</td>\n",
       "    </tr>\n",
       "    <tr>\n",
       "      <th>3</th>\n",
       "      <td>TRAIN_003</td>\n",
       "      <td>./train/TRAIN_003.mp4</td>\n",
       "      <td>4</td>\n",
       "    </tr>\n",
       "    <tr>\n",
       "      <th>4</th>\n",
       "      <td>TRAIN_004</td>\n",
       "      <td>./train/TRAIN_004.mp4</td>\n",
       "      <td>4</td>\n",
       "    </tr>\n",
       "    <tr>\n",
       "      <th>...</th>\n",
       "      <td>...</td>\n",
       "      <td>...</td>\n",
       "      <td>...</td>\n",
       "    </tr>\n",
       "    <tr>\n",
       "      <th>605</th>\n",
       "      <td>TRAIN_605</td>\n",
       "      <td>./train/TRAIN_605.mp4</td>\n",
       "      <td>0</td>\n",
       "    </tr>\n",
       "    <tr>\n",
       "      <th>606</th>\n",
       "      <td>TRAIN_606</td>\n",
       "      <td>./train/TRAIN_606.mp4</td>\n",
       "      <td>2</td>\n",
       "    </tr>\n",
       "    <tr>\n",
       "      <th>607</th>\n",
       "      <td>TRAIN_607</td>\n",
       "      <td>./train/TRAIN_607.mp4</td>\n",
       "      <td>1</td>\n",
       "    </tr>\n",
       "    <tr>\n",
       "      <th>608</th>\n",
       "      <td>TRAIN_608</td>\n",
       "      <td>./train/TRAIN_608.mp4</td>\n",
       "      <td>4</td>\n",
       "    </tr>\n",
       "    <tr>\n",
       "      <th>609</th>\n",
       "      <td>TRAIN_609</td>\n",
       "      <td>./train/TRAIN_609.mp4</td>\n",
       "      <td>0</td>\n",
       "    </tr>\n",
       "  </tbody>\n",
       "</table>\n",
       "<p>610 rows × 3 columns</p>\n",
       "</div>"
      ],
      "text/plain": [
       "            id                   path  label\n",
       "0    TRAIN_000  ./train/TRAIN_000.mp4      3\n",
       "1    TRAIN_001  ./train/TRAIN_001.mp4      0\n",
       "2    TRAIN_002  ./train/TRAIN_002.mp4      1\n",
       "3    TRAIN_003  ./train/TRAIN_003.mp4      4\n",
       "4    TRAIN_004  ./train/TRAIN_004.mp4      4\n",
       "..         ...                    ...    ...\n",
       "605  TRAIN_605  ./train/TRAIN_605.mp4      0\n",
       "606  TRAIN_606  ./train/TRAIN_606.mp4      2\n",
       "607  TRAIN_607  ./train/TRAIN_607.mp4      1\n",
       "608  TRAIN_608  ./train/TRAIN_608.mp4      4\n",
       "609  TRAIN_609  ./train/TRAIN_609.mp4      0\n",
       "\n",
       "[610 rows x 3 columns]"
      ]
     },
     "execution_count": 219,
     "metadata": {},
     "output_type": "execute_result"
    }
   ],
   "source": [
    "df"
   ]
  },
  {
   "cell_type": "code",
   "execution_count": 220,
   "id": "87ecf920",
   "metadata": {},
   "outputs": [
    {
     "data": {
      "text/plain": [
       "(610, 3)"
      ]
     },
     "execution_count": 220,
     "metadata": {},
     "output_type": "execute_result"
    }
   ],
   "source": [
    "df.shape"
   ]
  },
  {
   "cell_type": "code",
   "execution_count": 221,
   "id": "21a2ed3d",
   "metadata": {},
   "outputs": [],
   "source": [
    "X_train, X_test, y_train, y_test = train_test_split(df, df['label'].values, test_size = 0.2)"
   ]
  },
  {
   "cell_type": "code",
   "execution_count": 222,
   "id": "e0f9c0ee",
   "metadata": {},
   "outputs": [
    {
     "data": {
      "text/html": [
       "<div>\n",
       "<style scoped>\n",
       "    .dataframe tbody tr th:only-of-type {\n",
       "        vertical-align: middle;\n",
       "    }\n",
       "\n",
       "    .dataframe tbody tr th {\n",
       "        vertical-align: top;\n",
       "    }\n",
       "\n",
       "    .dataframe thead th {\n",
       "        text-align: right;\n",
       "    }\n",
       "</style>\n",
       "<table border=\"1\" class=\"dataframe\">\n",
       "  <thead>\n",
       "    <tr style=\"text-align: right;\">\n",
       "      <th></th>\n",
       "      <th>id</th>\n",
       "      <th>path</th>\n",
       "      <th>label</th>\n",
       "    </tr>\n",
       "  </thead>\n",
       "  <tbody>\n",
       "    <tr>\n",
       "      <th>465</th>\n",
       "      <td>TRAIN_465</td>\n",
       "      <td>./train/TRAIN_465.mp4</td>\n",
       "      <td>2</td>\n",
       "    </tr>\n",
       "    <tr>\n",
       "      <th>541</th>\n",
       "      <td>TRAIN_541</td>\n",
       "      <td>./train/TRAIN_541.mp4</td>\n",
       "      <td>2</td>\n",
       "    </tr>\n",
       "    <tr>\n",
       "      <th>426</th>\n",
       "      <td>TRAIN_426</td>\n",
       "      <td>./train/TRAIN_426.mp4</td>\n",
       "      <td>2</td>\n",
       "    </tr>\n",
       "    <tr>\n",
       "      <th>286</th>\n",
       "      <td>TRAIN_286</td>\n",
       "      <td>./train/TRAIN_286.mp4</td>\n",
       "      <td>4</td>\n",
       "    </tr>\n",
       "    <tr>\n",
       "      <th>409</th>\n",
       "      <td>TRAIN_409</td>\n",
       "      <td>./train/TRAIN_409.mp4</td>\n",
       "      <td>3</td>\n",
       "    </tr>\n",
       "    <tr>\n",
       "      <th>...</th>\n",
       "      <td>...</td>\n",
       "      <td>...</td>\n",
       "      <td>...</td>\n",
       "    </tr>\n",
       "    <tr>\n",
       "      <th>98</th>\n",
       "      <td>TRAIN_098</td>\n",
       "      <td>./train/TRAIN_098.mp4</td>\n",
       "      <td>2</td>\n",
       "    </tr>\n",
       "    <tr>\n",
       "      <th>250</th>\n",
       "      <td>TRAIN_250</td>\n",
       "      <td>./train/TRAIN_250.mp4</td>\n",
       "      <td>3</td>\n",
       "    </tr>\n",
       "    <tr>\n",
       "      <th>484</th>\n",
       "      <td>TRAIN_484</td>\n",
       "      <td>./train/TRAIN_484.mp4</td>\n",
       "      <td>3</td>\n",
       "    </tr>\n",
       "    <tr>\n",
       "      <th>227</th>\n",
       "      <td>TRAIN_227</td>\n",
       "      <td>./train/TRAIN_227.mp4</td>\n",
       "      <td>1</td>\n",
       "    </tr>\n",
       "    <tr>\n",
       "      <th>311</th>\n",
       "      <td>TRAIN_311</td>\n",
       "      <td>./train/TRAIN_311.mp4</td>\n",
       "      <td>1</td>\n",
       "    </tr>\n",
       "  </tbody>\n",
       "</table>\n",
       "<p>488 rows × 3 columns</p>\n",
       "</div>"
      ],
      "text/plain": [
       "            id                   path  label\n",
       "465  TRAIN_465  ./train/TRAIN_465.mp4      2\n",
       "541  TRAIN_541  ./train/TRAIN_541.mp4      2\n",
       "426  TRAIN_426  ./train/TRAIN_426.mp4      2\n",
       "286  TRAIN_286  ./train/TRAIN_286.mp4      4\n",
       "409  TRAIN_409  ./train/TRAIN_409.mp4      3\n",
       "..         ...                    ...    ...\n",
       "98   TRAIN_098  ./train/TRAIN_098.mp4      2\n",
       "250  TRAIN_250  ./train/TRAIN_250.mp4      3\n",
       "484  TRAIN_484  ./train/TRAIN_484.mp4      3\n",
       "227  TRAIN_227  ./train/TRAIN_227.mp4      1\n",
       "311  TRAIN_311  ./train/TRAIN_311.mp4      1\n",
       "\n",
       "[488 rows x 3 columns]"
      ]
     },
     "execution_count": 222,
     "metadata": {},
     "output_type": "execute_result"
    }
   ],
   "source": [
    "X_train"
   ]
  },
  {
   "cell_type": "code",
   "execution_count": 223,
   "id": "0ca6475f",
   "metadata": {},
   "outputs": [],
   "source": [
    "X_train = X_train.sort_values(by=['id'])"
   ]
  },
  {
   "cell_type": "code",
   "execution_count": 224,
   "id": "f9013984",
   "metadata": {},
   "outputs": [
    {
     "data": {
      "text/html": [
       "<div>\n",
       "<style scoped>\n",
       "    .dataframe tbody tr th:only-of-type {\n",
       "        vertical-align: middle;\n",
       "    }\n",
       "\n",
       "    .dataframe tbody tr th {\n",
       "        vertical-align: top;\n",
       "    }\n",
       "\n",
       "    .dataframe thead th {\n",
       "        text-align: right;\n",
       "    }\n",
       "</style>\n",
       "<table border=\"1\" class=\"dataframe\">\n",
       "  <thead>\n",
       "    <tr style=\"text-align: right;\">\n",
       "      <th></th>\n",
       "      <th>id</th>\n",
       "      <th>path</th>\n",
       "      <th>label</th>\n",
       "    </tr>\n",
       "  </thead>\n",
       "  <tbody>\n",
       "    <tr>\n",
       "      <th>0</th>\n",
       "      <td>TRAIN_000</td>\n",
       "      <td>./train/TRAIN_000.mp4</td>\n",
       "      <td>3</td>\n",
       "    </tr>\n",
       "    <tr>\n",
       "      <th>2</th>\n",
       "      <td>TRAIN_002</td>\n",
       "      <td>./train/TRAIN_002.mp4</td>\n",
       "      <td>1</td>\n",
       "    </tr>\n",
       "    <tr>\n",
       "      <th>5</th>\n",
       "      <td>TRAIN_005</td>\n",
       "      <td>./train/TRAIN_005.mp4</td>\n",
       "      <td>0</td>\n",
       "    </tr>\n",
       "    <tr>\n",
       "      <th>6</th>\n",
       "      <td>TRAIN_006</td>\n",
       "      <td>./train/TRAIN_006.mp4</td>\n",
       "      <td>4</td>\n",
       "    </tr>\n",
       "    <tr>\n",
       "      <th>7</th>\n",
       "      <td>TRAIN_007</td>\n",
       "      <td>./train/TRAIN_007.mp4</td>\n",
       "      <td>0</td>\n",
       "    </tr>\n",
       "    <tr>\n",
       "      <th>...</th>\n",
       "      <td>...</td>\n",
       "      <td>...</td>\n",
       "      <td>...</td>\n",
       "    </tr>\n",
       "    <tr>\n",
       "      <th>603</th>\n",
       "      <td>TRAIN_603</td>\n",
       "      <td>./train/TRAIN_603.mp4</td>\n",
       "      <td>4</td>\n",
       "    </tr>\n",
       "    <tr>\n",
       "      <th>604</th>\n",
       "      <td>TRAIN_604</td>\n",
       "      <td>./train/TRAIN_604.mp4</td>\n",
       "      <td>0</td>\n",
       "    </tr>\n",
       "    <tr>\n",
       "      <th>605</th>\n",
       "      <td>TRAIN_605</td>\n",
       "      <td>./train/TRAIN_605.mp4</td>\n",
       "      <td>0</td>\n",
       "    </tr>\n",
       "    <tr>\n",
       "      <th>606</th>\n",
       "      <td>TRAIN_606</td>\n",
       "      <td>./train/TRAIN_606.mp4</td>\n",
       "      <td>2</td>\n",
       "    </tr>\n",
       "    <tr>\n",
       "      <th>609</th>\n",
       "      <td>TRAIN_609</td>\n",
       "      <td>./train/TRAIN_609.mp4</td>\n",
       "      <td>0</td>\n",
       "    </tr>\n",
       "  </tbody>\n",
       "</table>\n",
       "<p>488 rows × 3 columns</p>\n",
       "</div>"
      ],
      "text/plain": [
       "            id                   path  label\n",
       "0    TRAIN_000  ./train/TRAIN_000.mp4      3\n",
       "2    TRAIN_002  ./train/TRAIN_002.mp4      1\n",
       "5    TRAIN_005  ./train/TRAIN_005.mp4      0\n",
       "6    TRAIN_006  ./train/TRAIN_006.mp4      4\n",
       "7    TRAIN_007  ./train/TRAIN_007.mp4      0\n",
       "..         ...                    ...    ...\n",
       "603  TRAIN_603  ./train/TRAIN_603.mp4      4\n",
       "604  TRAIN_604  ./train/TRAIN_604.mp4      0\n",
       "605  TRAIN_605  ./train/TRAIN_605.mp4      0\n",
       "606  TRAIN_606  ./train/TRAIN_606.mp4      2\n",
       "609  TRAIN_609  ./train/TRAIN_609.mp4      0\n",
       "\n",
       "[488 rows x 3 columns]"
      ]
     },
     "execution_count": 224,
     "metadata": {},
     "output_type": "execute_result"
    }
   ],
   "source": [
    "X_train"
   ]
  },
  {
   "cell_type": "code",
   "execution_count": 225,
   "id": "219f763f",
   "metadata": {},
   "outputs": [],
   "source": [
    "X_train['id'] = [path[6:] for path in X_train['id']]"
   ]
  },
  {
   "cell_type": "code",
   "execution_count": 226,
   "id": "8b9582b8",
   "metadata": {},
   "outputs": [
    {
     "data": {
      "text/html": [
       "<div>\n",
       "<style scoped>\n",
       "    .dataframe tbody tr th:only-of-type {\n",
       "        vertical-align: middle;\n",
       "    }\n",
       "\n",
       "    .dataframe tbody tr th {\n",
       "        vertical-align: top;\n",
       "    }\n",
       "\n",
       "    .dataframe thead th {\n",
       "        text-align: right;\n",
       "    }\n",
       "</style>\n",
       "<table border=\"1\" class=\"dataframe\">\n",
       "  <thead>\n",
       "    <tr style=\"text-align: right;\">\n",
       "      <th></th>\n",
       "      <th>id</th>\n",
       "      <th>path</th>\n",
       "      <th>label</th>\n",
       "    </tr>\n",
       "  </thead>\n",
       "  <tbody>\n",
       "    <tr>\n",
       "      <th>0</th>\n",
       "      <td>000</td>\n",
       "      <td>./train/TRAIN_000.mp4</td>\n",
       "      <td>3</td>\n",
       "    </tr>\n",
       "    <tr>\n",
       "      <th>2</th>\n",
       "      <td>002</td>\n",
       "      <td>./train/TRAIN_002.mp4</td>\n",
       "      <td>1</td>\n",
       "    </tr>\n",
       "    <tr>\n",
       "      <th>5</th>\n",
       "      <td>005</td>\n",
       "      <td>./train/TRAIN_005.mp4</td>\n",
       "      <td>0</td>\n",
       "    </tr>\n",
       "    <tr>\n",
       "      <th>6</th>\n",
       "      <td>006</td>\n",
       "      <td>./train/TRAIN_006.mp4</td>\n",
       "      <td>4</td>\n",
       "    </tr>\n",
       "    <tr>\n",
       "      <th>7</th>\n",
       "      <td>007</td>\n",
       "      <td>./train/TRAIN_007.mp4</td>\n",
       "      <td>0</td>\n",
       "    </tr>\n",
       "    <tr>\n",
       "      <th>...</th>\n",
       "      <td>...</td>\n",
       "      <td>...</td>\n",
       "      <td>...</td>\n",
       "    </tr>\n",
       "    <tr>\n",
       "      <th>603</th>\n",
       "      <td>603</td>\n",
       "      <td>./train/TRAIN_603.mp4</td>\n",
       "      <td>4</td>\n",
       "    </tr>\n",
       "    <tr>\n",
       "      <th>604</th>\n",
       "      <td>604</td>\n",
       "      <td>./train/TRAIN_604.mp4</td>\n",
       "      <td>0</td>\n",
       "    </tr>\n",
       "    <tr>\n",
       "      <th>605</th>\n",
       "      <td>605</td>\n",
       "      <td>./train/TRAIN_605.mp4</td>\n",
       "      <td>0</td>\n",
       "    </tr>\n",
       "    <tr>\n",
       "      <th>606</th>\n",
       "      <td>606</td>\n",
       "      <td>./train/TRAIN_606.mp4</td>\n",
       "      <td>2</td>\n",
       "    </tr>\n",
       "    <tr>\n",
       "      <th>609</th>\n",
       "      <td>609</td>\n",
       "      <td>./train/TRAIN_609.mp4</td>\n",
       "      <td>0</td>\n",
       "    </tr>\n",
       "  </tbody>\n",
       "</table>\n",
       "<p>488 rows × 3 columns</p>\n",
       "</div>"
      ],
      "text/plain": [
       "      id                   path  label\n",
       "0    000  ./train/TRAIN_000.mp4      3\n",
       "2    002  ./train/TRAIN_002.mp4      1\n",
       "5    005  ./train/TRAIN_005.mp4      0\n",
       "6    006  ./train/TRAIN_006.mp4      4\n",
       "7    007  ./train/TRAIN_007.mp4      0\n",
       "..   ...                    ...    ...\n",
       "603  603  ./train/TRAIN_603.mp4      4\n",
       "604  604  ./train/TRAIN_604.mp4      0\n",
       "605  605  ./train/TRAIN_605.mp4      0\n",
       "606  606  ./train/TRAIN_606.mp4      2\n",
       "609  609  ./train/TRAIN_609.mp4      0\n",
       "\n",
       "[488 rows x 3 columns]"
      ]
     },
     "execution_count": 226,
     "metadata": {},
     "output_type": "execute_result"
    }
   ],
   "source": [
    "X_train"
   ]
  },
  {
   "cell_type": "code",
   "execution_count": 227,
   "id": "d63d4189",
   "metadata": {},
   "outputs": [],
   "source": [
    "X_train['path'] = ['D:/ML/Handpose/open/' + path[2:] for path in X_train['path']]"
   ]
  },
  {
   "cell_type": "code",
   "execution_count": 228,
   "id": "74f61111",
   "metadata": {},
   "outputs": [
    {
     "data": {
      "text/html": [
       "<div>\n",
       "<style scoped>\n",
       "    .dataframe tbody tr th:only-of-type {\n",
       "        vertical-align: middle;\n",
       "    }\n",
       "\n",
       "    .dataframe tbody tr th {\n",
       "        vertical-align: top;\n",
       "    }\n",
       "\n",
       "    .dataframe thead th {\n",
       "        text-align: right;\n",
       "    }\n",
       "</style>\n",
       "<table border=\"1\" class=\"dataframe\">\n",
       "  <thead>\n",
       "    <tr style=\"text-align: right;\">\n",
       "      <th></th>\n",
       "      <th>id</th>\n",
       "      <th>path</th>\n",
       "      <th>label</th>\n",
       "    </tr>\n",
       "  </thead>\n",
       "  <tbody>\n",
       "    <tr>\n",
       "      <th>0</th>\n",
       "      <td>000</td>\n",
       "      <td>D:/ML/Handpose/open/train/TRAIN_000.mp4</td>\n",
       "      <td>3</td>\n",
       "    </tr>\n",
       "    <tr>\n",
       "      <th>2</th>\n",
       "      <td>002</td>\n",
       "      <td>D:/ML/Handpose/open/train/TRAIN_002.mp4</td>\n",
       "      <td>1</td>\n",
       "    </tr>\n",
       "    <tr>\n",
       "      <th>5</th>\n",
       "      <td>005</td>\n",
       "      <td>D:/ML/Handpose/open/train/TRAIN_005.mp4</td>\n",
       "      <td>0</td>\n",
       "    </tr>\n",
       "    <tr>\n",
       "      <th>6</th>\n",
       "      <td>006</td>\n",
       "      <td>D:/ML/Handpose/open/train/TRAIN_006.mp4</td>\n",
       "      <td>4</td>\n",
       "    </tr>\n",
       "    <tr>\n",
       "      <th>7</th>\n",
       "      <td>007</td>\n",
       "      <td>D:/ML/Handpose/open/train/TRAIN_007.mp4</td>\n",
       "      <td>0</td>\n",
       "    </tr>\n",
       "    <tr>\n",
       "      <th>...</th>\n",
       "      <td>...</td>\n",
       "      <td>...</td>\n",
       "      <td>...</td>\n",
       "    </tr>\n",
       "    <tr>\n",
       "      <th>603</th>\n",
       "      <td>603</td>\n",
       "      <td>D:/ML/Handpose/open/train/TRAIN_603.mp4</td>\n",
       "      <td>4</td>\n",
       "    </tr>\n",
       "    <tr>\n",
       "      <th>604</th>\n",
       "      <td>604</td>\n",
       "      <td>D:/ML/Handpose/open/train/TRAIN_604.mp4</td>\n",
       "      <td>0</td>\n",
       "    </tr>\n",
       "    <tr>\n",
       "      <th>605</th>\n",
       "      <td>605</td>\n",
       "      <td>D:/ML/Handpose/open/train/TRAIN_605.mp4</td>\n",
       "      <td>0</td>\n",
       "    </tr>\n",
       "    <tr>\n",
       "      <th>606</th>\n",
       "      <td>606</td>\n",
       "      <td>D:/ML/Handpose/open/train/TRAIN_606.mp4</td>\n",
       "      <td>2</td>\n",
       "    </tr>\n",
       "    <tr>\n",
       "      <th>609</th>\n",
       "      <td>609</td>\n",
       "      <td>D:/ML/Handpose/open/train/TRAIN_609.mp4</td>\n",
       "      <td>0</td>\n",
       "    </tr>\n",
       "  </tbody>\n",
       "</table>\n",
       "<p>488 rows × 3 columns</p>\n",
       "</div>"
      ],
      "text/plain": [
       "      id                                     path  label\n",
       "0    000  D:/ML/Handpose/open/train/TRAIN_000.mp4      3\n",
       "2    002  D:/ML/Handpose/open/train/TRAIN_002.mp4      1\n",
       "5    005  D:/ML/Handpose/open/train/TRAIN_005.mp4      0\n",
       "6    006  D:/ML/Handpose/open/train/TRAIN_006.mp4      4\n",
       "7    007  D:/ML/Handpose/open/train/TRAIN_007.mp4      0\n",
       "..   ...                                      ...    ...\n",
       "603  603  D:/ML/Handpose/open/train/TRAIN_603.mp4      4\n",
       "604  604  D:/ML/Handpose/open/train/TRAIN_604.mp4      0\n",
       "605  605  D:/ML/Handpose/open/train/TRAIN_605.mp4      0\n",
       "606  606  D:/ML/Handpose/open/train/TRAIN_606.mp4      2\n",
       "609  609  D:/ML/Handpose/open/train/TRAIN_609.mp4      0\n",
       "\n",
       "[488 rows x 3 columns]"
      ]
     },
     "execution_count": 228,
     "metadata": {},
     "output_type": "execute_result"
    }
   ],
   "source": [
    "X_train"
   ]
  },
  {
   "cell_type": "code",
   "execution_count": 229,
   "id": "43ec4606",
   "metadata": {},
   "outputs": [],
   "source": [
    "X_test = X_test.sort_values(by=['id'])"
   ]
  },
  {
   "cell_type": "code",
   "execution_count": 230,
   "id": "0b0cf5bb",
   "metadata": {},
   "outputs": [],
   "source": [
    "X_test['id'] = [path[6:] for path in X_test['id']]"
   ]
  },
  {
   "cell_type": "code",
   "execution_count": 231,
   "id": "55a7e45d",
   "metadata": {},
   "outputs": [],
   "source": [
    "X_test['path'] = ['D:/ML/Handpose/open/' + path[2:] for path in X_test['path']]"
   ]
  },
  {
   "cell_type": "code",
   "execution_count": 232,
   "id": "aeda8ae8",
   "metadata": {},
   "outputs": [
    {
     "data": {
      "text/html": [
       "<div>\n",
       "<style scoped>\n",
       "    .dataframe tbody tr th:only-of-type {\n",
       "        vertical-align: middle;\n",
       "    }\n",
       "\n",
       "    .dataframe tbody tr th {\n",
       "        vertical-align: top;\n",
       "    }\n",
       "\n",
       "    .dataframe thead th {\n",
       "        text-align: right;\n",
       "    }\n",
       "</style>\n",
       "<table border=\"1\" class=\"dataframe\">\n",
       "  <thead>\n",
       "    <tr style=\"text-align: right;\">\n",
       "      <th></th>\n",
       "      <th>id</th>\n",
       "      <th>path</th>\n",
       "      <th>label</th>\n",
       "    </tr>\n",
       "  </thead>\n",
       "  <tbody>\n",
       "    <tr>\n",
       "      <th>1</th>\n",
       "      <td>001</td>\n",
       "      <td>D:/ML/Handpose/open/train/TRAIN_001.mp4</td>\n",
       "      <td>0</td>\n",
       "    </tr>\n",
       "    <tr>\n",
       "      <th>3</th>\n",
       "      <td>003</td>\n",
       "      <td>D:/ML/Handpose/open/train/TRAIN_003.mp4</td>\n",
       "      <td>4</td>\n",
       "    </tr>\n",
       "    <tr>\n",
       "      <th>4</th>\n",
       "      <td>004</td>\n",
       "      <td>D:/ML/Handpose/open/train/TRAIN_004.mp4</td>\n",
       "      <td>4</td>\n",
       "    </tr>\n",
       "    <tr>\n",
       "      <th>12</th>\n",
       "      <td>012</td>\n",
       "      <td>D:/ML/Handpose/open/train/TRAIN_012.mp4</td>\n",
       "      <td>2</td>\n",
       "    </tr>\n",
       "    <tr>\n",
       "      <th>18</th>\n",
       "      <td>018</td>\n",
       "      <td>D:/ML/Handpose/open/train/TRAIN_018.mp4</td>\n",
       "      <td>0</td>\n",
       "    </tr>\n",
       "    <tr>\n",
       "      <th>...</th>\n",
       "      <td>...</td>\n",
       "      <td>...</td>\n",
       "      <td>...</td>\n",
       "    </tr>\n",
       "    <tr>\n",
       "      <th>595</th>\n",
       "      <td>595</td>\n",
       "      <td>D:/ML/Handpose/open/train/TRAIN_595.mp4</td>\n",
       "      <td>1</td>\n",
       "    </tr>\n",
       "    <tr>\n",
       "      <th>596</th>\n",
       "      <td>596</td>\n",
       "      <td>D:/ML/Handpose/open/train/TRAIN_596.mp4</td>\n",
       "      <td>1</td>\n",
       "    </tr>\n",
       "    <tr>\n",
       "      <th>600</th>\n",
       "      <td>600</td>\n",
       "      <td>D:/ML/Handpose/open/train/TRAIN_600.mp4</td>\n",
       "      <td>3</td>\n",
       "    </tr>\n",
       "    <tr>\n",
       "      <th>607</th>\n",
       "      <td>607</td>\n",
       "      <td>D:/ML/Handpose/open/train/TRAIN_607.mp4</td>\n",
       "      <td>1</td>\n",
       "    </tr>\n",
       "    <tr>\n",
       "      <th>608</th>\n",
       "      <td>608</td>\n",
       "      <td>D:/ML/Handpose/open/train/TRAIN_608.mp4</td>\n",
       "      <td>4</td>\n",
       "    </tr>\n",
       "  </tbody>\n",
       "</table>\n",
       "<p>122 rows × 3 columns</p>\n",
       "</div>"
      ],
      "text/plain": [
       "      id                                     path  label\n",
       "1    001  D:/ML/Handpose/open/train/TRAIN_001.mp4      0\n",
       "3    003  D:/ML/Handpose/open/train/TRAIN_003.mp4      4\n",
       "4    004  D:/ML/Handpose/open/train/TRAIN_004.mp4      4\n",
       "12   012  D:/ML/Handpose/open/train/TRAIN_012.mp4      2\n",
       "18   018  D:/ML/Handpose/open/train/TRAIN_018.mp4      0\n",
       "..   ...                                      ...    ...\n",
       "595  595  D:/ML/Handpose/open/train/TRAIN_595.mp4      1\n",
       "596  596  D:/ML/Handpose/open/train/TRAIN_596.mp4      1\n",
       "600  600  D:/ML/Handpose/open/train/TRAIN_600.mp4      3\n",
       "607  607  D:/ML/Handpose/open/train/TRAIN_607.mp4      1\n",
       "608  608  D:/ML/Handpose/open/train/TRAIN_608.mp4      4\n",
       "\n",
       "[122 rows x 3 columns]"
      ]
     },
     "execution_count": 232,
     "metadata": {},
     "output_type": "execute_result"
    }
   ],
   "source": [
    "X_test"
   ]
  },
  {
   "cell_type": "code",
   "execution_count": 233,
   "id": "57ea9300",
   "metadata": {},
   "outputs": [],
   "source": [
    "class CustomDataset(Sequence):\n",
    "    def __init__(self, x_set, y_set, batch_size, augmentations, shuffle = True):\n",
    "        self.y = y_set\n",
    "        self.x = x_set\n",
    "        self.batch_size = batch_size\n",
    "        self.augment = augmentations\n",
    "        self.indexes = np.arange(self.x.shape[0])\n",
    "        self.shuffle = shuffle\n",
    "        self.on_epoch_end()\n",
    "    def on_epoch_end(self):\n",
    "        'Updates indexes after each epoch'\n",
    "        if self.shuffle == True:\n",
    "            np.random.shuffle(self.indexes)\n",
    "    def __len__(self):\n",
    "        return int(np.ceil(len(self.x) / float(self.batch_size)))\n",
    "    def get_Video(self, path):\n",
    "        frames = []\n",
    "        cap = cv2.VideoCapture(path)\n",
    "        for _ in range(30):\n",
    "            _, img = cap.read()\n",
    "            img = np.array(cv2.cvtColor(img, cv2.COLOR_BGR2RGB))\n",
    "            #img = np.array(cv2.COLOR_BGR2RGB(img))\n",
    "            img = self.augment(image = img)[\"image\"]\n",
    "            frames.append(img)\n",
    "        return np.array(frames)\n",
    "\n",
    "    # 지정 배치 크기만큼 데이터를 로드합니다.\n",
    "    def __getitem__(self, idx):\n",
    "        inds = self.indexes[idx * self.batch_size:(idx + 1) * self.batch_size]\n",
    "        img_path = self.x[inds]\n",
    "        batch_x = [self.get_Video(x)for x in img_path]\n",
    "        batch_y = self.y[inds]\n",
    "        \n",
    "        # augmentation을 적용해서 numpy array에 stack합니다.\n",
    "        return np.array(batch_x), np.array(batch_y)"
   ]
  },
  {
   "cell_type": "code",
   "execution_count": 234,
   "id": "51987f3f",
   "metadata": {},
   "outputs": [],
   "source": [
    "train_transform = A.Compose([A.Resize(128,128),\n",
    "                             #A.HorizontalFlip(p=0.5), A.VerticalFlip(p=0.5), A.Rotate(limit= 90),\n",
    "                             A.Normalize(mean=(0.485, 0.456, 0.406), \n",
    "                            std=(0.229, 0.224, 0.225),\n",
    "                            max_pixel_value=255.0, always_apply=False, p=1.0)])\n",
    "test_transform = A.Compose([A.Resize(128,128),A.Normalize(mean=(0.485, 0.456, 0.406),\n",
    "                            std=(0.229, 0.224, 0.225), max_pixel_value=255.0, always_apply=False, p=1.0)])"
   ]
  },
  {
   "cell_type": "code",
   "execution_count": 235,
   "id": "8bcb3f2c",
   "metadata": {},
   "outputs": [],
   "source": [
    "def get_data(df, infer = False):\n",
    "    if infer:\n",
    "        return df['path'].values, df['id'].values\n",
    "    return df['path'].values, df['label'].values"
   ]
  },
  {
   "cell_type": "code",
   "execution_count": 236,
   "id": "6805cbf8",
   "metadata": {},
   "outputs": [],
   "source": [
    "train_x, train_y = get_data(X_train)\n",
    "test_x, test_y = get_data(X_test)"
   ]
  },
  {
   "cell_type": "code",
   "execution_count": 237,
   "id": "9d984eae",
   "metadata": {},
   "outputs": [],
   "source": [
    "train_y = to_categorical(train_y)\n",
    "test_y = to_categorical(test_y)"
   ]
  },
  {
   "cell_type": "code",
   "execution_count": 238,
   "id": "bdcef0a5",
   "metadata": {},
   "outputs": [
    {
     "data": {
      "text/plain": [
       "(488, 5)"
      ]
     },
     "execution_count": 238,
     "metadata": {},
     "output_type": "execute_result"
    }
   ],
   "source": [
    "train_y.shape"
   ]
  },
  {
   "cell_type": "code",
   "execution_count": 239,
   "id": "0927d0d4",
   "metadata": {},
   "outputs": [],
   "source": [
    "frames = []\n",
    "cap = cv2.VideoCapture(train_x[0])\n",
    "for _ in range(30):\n",
    "    _, img = cap.read()\n",
    "    img = np.array(cv2.cvtColor(img, cv2.COLOR_BGR2RGB))\n",
    "    img = train_transform(image = img)[\"image\"]\n",
    "    #img = np.array(cv2.COLOR_BGR2RGB(img))\n",
    "    frames.append(img)"
   ]
  },
  {
   "cell_type": "code",
   "execution_count": 240,
   "id": "81db80af",
   "metadata": {},
   "outputs": [
    {
     "data": {
      "text/plain": [
       "(30, 128, 128, 3)"
      ]
     },
     "execution_count": 240,
     "metadata": {},
     "output_type": "execute_result"
    }
   ],
   "source": [
    "frame = np.array(frames)\n",
    "frame.shape"
   ]
  },
  {
   "cell_type": "code",
   "execution_count": 241,
   "id": "2508225d",
   "metadata": {},
   "outputs": [
    {
     "name": "stderr",
     "output_type": "stream",
     "text": [
      "Clipping input data to the valid range for imshow with RGB data ([0..1] for floats or [0..255] for integers).\n"
     ]
    },
    {
     "data": {
      "text/plain": [
       "<matplotlib.image.AxesImage at 0x2704201b460>"
      ]
     },
     "execution_count": 241,
     "metadata": {},
     "output_type": "execute_result"
    },
    {
     "data": {
      "image/png": "[encoded data removed]",
      "text/plain": [
       "<Figure size 640x480 with 1 Axes>"
      ]
     },
     "metadata": {},
     "output_type": "display_data"
    }
   ],
   "source": [
    "import matplotlib.pyplot as plt\n",
    "plt.imshow(frame[0])"
   ]
  },
  {
   "cell_type": "code",
   "execution_count": 242,
   "id": "b7721986",
   "metadata": {},
   "outputs": [],
   "source": [
    "train_dataset = CustomDataset(train_x, train_y, 16, train_transform)\n",
    "test_dataset = CustomDataset(test_x, test_y, 16, train_transform)"
   ]
  },
  {
   "cell_type": "markdown",
   "id": "24aa2e4b",
   "metadata": {},
   "source": [
    "# Make Model"
   ]
  },
  {
   "cell_type": "code",
   "execution_count": 275,
   "id": "24401a3e",
   "metadata": {},
   "outputs": [],
   "source": [
    "model = Sequential()\n",
    "#model.add(Permute((4, 1, 2, 3), input_shape = (30, 128, 128, 3)))\n",
    "model.add(Conv3D(8, (3, 3, 3),  activation='relu',input_shape = (30, 128, 128, 3)))\n",
    "model.add(BatchNormalization())\n",
    "model.add(MaxPooling3D(2))\n",
    "model.add(Conv3D(32, (2, 2, 2),  activation='relu'))\n",
    "model.add(BatchNormalization())\n",
    "model.add(MaxPooling3D(2))\n",
    "model.add(Conv3D(64, (2, 2, 2), activation='relu'))\n",
    "model.add(BatchNormalization())\n",
    "model.add(MaxPooling3D(2))\n",
    "model.add(Conv3D(128, (2, 2, 2), activation='relu'))\n",
    "model.add(BatchNormalization())\n",
    "model.add(MaxPooling3D((1, 7, 7)))\n",
    "model.add(Flatten())\n",
    "model.add(Dense(512, activation='relu'))\n",
    "model.add(Dense(256, activation='relu'))\n",
    "model.add(Dense(128, activation='relu'))\n",
    "#model.add(Dense(64, activation='relu'))\n",
    "#model.add(Dense(32, activation='relu'))\n",
    "model.add(Dense(5, activation='softmax'))"
   ]
  },
  {
   "cell_type": "code",
   "execution_count": 276,
   "id": "a2f1a81c",
   "metadata": {},
   "outputs": [],
   "source": [
    "model.compile(optimizer='adam', loss='categorical_crossentropy', metrics=['accuracy'])"
   ]
  },
  {
   "cell_type": "code",
   "execution_count": 277,
   "id": "a0114d29",
   "metadata": {},
   "outputs": [
    {
     "name": "stdout",
     "output_type": "stream",
     "text": [
      "Model: \"sequential_12\"\n",
      "_________________________________________________________________\n",
      " Layer (type)                Output Shape              Param #   \n",
      "=================================================================\n",
      " conv3d_49 (Conv3D)          (None, 28, 126, 126, 8)   656       \n",
      "                                                                 \n",
      " batch_normalization_49 (Bat  (None, 28, 126, 126, 8)  32        \n",
      " chNormalization)                                                \n",
      "                                                                 \n",
      " max_pooling3d_49 (MaxPoolin  (None, 14, 63, 63, 8)    0         \n",
      " g3D)                                                            \n",
      "                                                                 \n",
      " conv3d_50 (Conv3D)          (None, 13, 62, 62, 32)    2080      \n",
      "                                                                 \n",
      " batch_normalization_50 (Bat  (None, 13, 62, 62, 32)   128       \n",
      " chNormalization)                                                \n",
      "                                                                 \n",
      " max_pooling3d_50 (MaxPoolin  (None, 6, 31, 31, 32)    0         \n",
      " g3D)                                                            \n",
      "                                                                 \n",
      " conv3d_51 (Conv3D)          (None, 5, 30, 30, 64)     16448     \n",
      "                                                                 \n",
      " batch_normalization_51 (Bat  (None, 5, 30, 30, 64)    256       \n",
      " chNormalization)                                                \n",
      "                                                                 \n",
      " max_pooling3d_51 (MaxPoolin  (None, 2, 15, 15, 64)    0         \n",
      " g3D)                                                            \n",
      "                                                                 \n",
      " conv3d_52 (Conv3D)          (None, 1, 14, 14, 128)    65664     \n",
      "                                                                 \n",
      " batch_normalization_52 (Bat  (None, 1, 14, 14, 128)   512       \n",
      " chNormalization)                                                \n",
      "                                                                 \n",
      " max_pooling3d_52 (MaxPoolin  (None, 1, 2, 2, 128)     0         \n",
      " g3D)                                                            \n",
      "                                                                 \n",
      " flatten_10 (Flatten)        (None, 512)               0         \n",
      "                                                                 \n",
      " dense_39 (Dense)            (None, 512)               262656    \n",
      "                                                                 \n",
      " dense_40 (Dense)            (None, 256)               131328    \n",
      "                                                                 \n",
      " dense_41 (Dense)            (None, 128)               32896     \n",
      "                                                                 \n",
      " dense_42 (Dense)            (None, 5)                 645       \n",
      "                                                                 \n",
      "=================================================================\n",
      "Total params: 513,301\n",
      "Trainable params: 512,837\n",
      "Non-trainable params: 464\n",
      "_________________________________________________________________\n"
     ]
    }
   ],
   "source": [
    "model.summary()"
   ]
  },
  {
   "cell_type": "code",
   "execution_count": 273,
   "id": "da12f2b5",
   "metadata": {},
   "outputs": [
    {
     "name": "stdout",
     "output_type": "stream",
     "text": [
      "[name: \"/device:CPU:0\"\n",
      "device_type: \"CPU\"\n",
      "memory_limit: 268435456\n",
      "locality {\n",
      "}\n",
      "incarnation: 8256214455915429472\n",
      "xla_global_id: -1\n",
      ", name: \"/device:GPU:0\"\n",
      "device_type: \"GPU\"\n",
      "memory_limit: 22722641920\n",
      "locality {\n",
      "  bus_id: 1\n",
      "  links {\n",
      "  }\n",
      "}\n",
      "incarnation: 14034451665088931308\n",
      "physical_device_desc: \"device: 0, name: NVIDIA GeForce RTX 3090, pci bus id: 0000:01:00.0, compute capability: 8.6\"\n",
      "xla_global_id: 416903419\n",
      "]\n"
     ]
    }
   ],
   "source": [
    "import os\n",
    "os.environ[\"CUDA_VISIBLE_DEVICES\"] = \"0\"\n",
    "from tensorflow.python.client import device_lib\n",
    "\n",
    "print(device_lib.list_local_devices())\n",
    "os.environ[\"CUDA_VISIBLE_DEVICES\"] = \"0\""
   ]
  },
  {
   "cell_type": "code",
   "execution_count": 268,
   "id": "3517c711",
   "metadata": {},
   "outputs": [
    {
     "name": "stdout",
     "output_type": "stream",
     "text": [
      "WARNING:tensorflow:`epsilon` argument is deprecated and will be removed, use `min_delta` instead.\n"
     ]
    }
   ],
   "source": [
    "earlyStopping = EarlyStopping(monitor='val_loss', patience=10, verbose=0, mode='min')\n",
    "mcp_save = ModelCheckpoint('D:/ML/Handpose/open/model.h5', save_best_only=True, monitor='val_accuracy', mode='max',save_weights_only=True)\n",
    "reduce_lr_loss = ReduceLROnPlateau(monitor='val_loss', factor=0.1, patience=7, verbose=1, epsilon=1e-4, mode='min')"
   ]
  },
  {
   "cell_type": "code",
   "execution_count": 248,
   "id": "8c4327b4",
   "metadata": {
    "scrolled": true
   },
   "outputs": [
    {
     "name": "stdout",
     "output_type": "stream",
     "text": [
      "Epoch 1/100\n",
      "31/31 [==============================] - 11s 340ms/step - loss: 2.2114 - accuracy: 0.2234 - val_loss: 1.5272 - val_accuracy: 0.2705 - lr: 0.0010\n",
      "Epoch 2/100\n",
      "31/31 [==============================] - 10s 332ms/step - loss: 1.2062 - accuracy: 0.4611 - val_loss: 1.3586 - val_accuracy: 0.5164 - lr: 0.0010\n",
      "Epoch 3/100\n",
      "31/31 [==============================] - 10s 328ms/step - loss: 1.0188 - accuracy: 0.5799 - val_loss: 1.3534 - val_accuracy: 0.4426 - lr: 0.0010\n",
      "Epoch 4/100\n",
      "31/31 [==============================] - 10s 330ms/step - loss: 0.8576 - accuracy: 0.6414 - val_loss: 1.3378 - val_accuracy: 0.4262 - lr: 0.0010\n",
      "Epoch 5/100\n",
      "31/31 [==============================] - 10s 328ms/step - loss: 0.6394 - accuracy: 0.7602 - val_loss: 1.3687 - val_accuracy: 0.4016 - lr: 0.0010\n",
      "Epoch 6/100\n",
      "31/31 [==============================] - 10s 334ms/step - loss: 0.4584 - accuracy: 0.8361 - val_loss: 1.1416 - val_accuracy: 0.5574 - lr: 0.0010\n",
      "Epoch 7/100\n",
      "31/31 [==============================] - 10s 330ms/step - loss: 0.2704 - accuracy: 0.9037 - val_loss: 1.1010 - val_accuracy: 0.5656 - lr: 0.0010\n",
      "Epoch 8/100\n",
      "31/31 [==============================] - 10s 331ms/step - loss: 0.2258 - accuracy: 0.9242 - val_loss: 1.2531 - val_accuracy: 0.5164 - lr: 0.0010\n",
      "Epoch 9/100\n",
      "31/31 [==============================] - 10s 327ms/step - loss: 0.1684 - accuracy: 0.9447 - val_loss: 0.8899 - val_accuracy: 0.6803 - lr: 0.0010\n",
      "Epoch 10/100\n",
      "31/31 [==============================] - 10s 339ms/step - loss: 0.2296 - accuracy: 0.9057 - val_loss: 0.5314 - val_accuracy: 0.8115 - lr: 0.0010\n",
      "Epoch 11/100\n",
      "31/31 [==============================] - 10s 330ms/step - loss: 0.1525 - accuracy: 0.9529 - val_loss: 0.4010 - val_accuracy: 0.8607 - lr: 0.0010\n",
      "Epoch 12/100\n",
      "31/31 [==============================] - 10s 332ms/step - loss: 0.0616 - accuracy: 0.9775 - val_loss: 0.6033 - val_accuracy: 0.7869 - lr: 0.0010\n",
      "Epoch 13/100\n",
      "31/31 [==============================] - 10s 330ms/step - loss: 0.1132 - accuracy: 0.9590 - val_loss: 0.2891 - val_accuracy: 0.9098 - lr: 0.0010\n",
      "Epoch 14/100\n",
      "31/31 [==============================] - 10s 335ms/step - loss: 0.1938 - accuracy: 0.9406 - val_loss: 0.7489 - val_accuracy: 0.7869 - lr: 0.0010\n",
      "Epoch 15/100\n",
      "31/31 [==============================] - 11s 338ms/step - loss: 0.1618 - accuracy: 0.9406 - val_loss: 0.4281 - val_accuracy: 0.8361 - lr: 0.0010\n",
      "Epoch 16/100\n",
      "31/31 [==============================] - 10s 327ms/step - loss: 0.0668 - accuracy: 0.9795 - val_loss: 0.2115 - val_accuracy: 0.9344 - lr: 0.0010\n",
      "Epoch 17/100\n",
      "31/31 [==============================] - 10s 328ms/step - loss: 0.0161 - accuracy: 0.9918 - val_loss: 0.2017 - val_accuracy: 0.9508 - lr: 0.0010\n",
      "Epoch 18/100\n",
      "31/31 [==============================] - 10s 328ms/step - loss: 0.0180 - accuracy: 0.9939 - val_loss: 0.3627 - val_accuracy: 0.8770 - lr: 0.0010\n",
      "Epoch 19/100\n",
      "31/31 [==============================] - 10s 326ms/step - loss: 0.0153 - accuracy: 0.9939 - val_loss: 0.3238 - val_accuracy: 0.8852 - lr: 0.0010\n",
      "Epoch 20/100\n",
      "31/31 [==============================] - 10s 329ms/step - loss: 0.0036 - accuracy: 1.0000 - val_loss: 0.2847 - val_accuracy: 0.9098 - lr: 0.0010\n",
      "Epoch 21/100\n",
      "31/31 [==============================] - 10s 328ms/step - loss: 0.0016 - accuracy: 1.0000 - val_loss: 0.2147 - val_accuracy: 0.9426 - lr: 0.0010\n",
      "Epoch 22/100\n",
      "31/31 [==============================] - 10s 332ms/step - loss: 0.0053 - accuracy: 0.9980 - val_loss: 0.2415 - val_accuracy: 0.9262 - lr: 0.0010\n",
      "Epoch 23/100\n",
      "31/31 [==============================] - 10s 329ms/step - loss: 0.0486 - accuracy: 0.9816 - val_loss: 0.4332 - val_accuracy: 0.9016 - lr: 0.0010\n",
      "Epoch 24/100\n",
      "31/31 [==============================] - ETA: 0s - loss: 0.1484 - accuracy: 0.9365\n",
      "Epoch 24: ReduceLROnPlateau reducing learning rate to 0.00010000000474974513.\n",
      "31/31 [==============================] - 10s 337ms/step - loss: 0.1484 - accuracy: 0.9365 - val_loss: 0.9337 - val_accuracy: 0.7869 - lr: 0.0010\n",
      "Epoch 25/100\n",
      "31/31 [==============================] - 11s 360ms/step - loss: 0.0678 - accuracy: 0.9754 - val_loss: 0.5029 - val_accuracy: 0.8852 - lr: 1.0000e-04\n",
      "Epoch 26/100\n",
      "31/31 [==============================] - 11s 355ms/step - loss: 0.0117 - accuracy: 1.0000 - val_loss: 0.3488 - val_accuracy: 0.9344 - lr: 1.0000e-04\n",
      "Epoch 27/100\n",
      "31/31 [==============================] - 11s 351ms/step - loss: 0.0086 - accuracy: 1.0000 - val_loss: 0.3030 - val_accuracy: 0.9344 - lr: 1.0000e-04\n"
     ]
    }
   ],
   "source": [
    "history = model.fit(train_dataset, epochs= 100, validation_data=test_dataset,\n",
    "                    callbacks=[earlyStopping, mcp_save, reduce_lr_loss])"
   ]
  },
  {
   "cell_type": "code",
   "execution_count": 278,
   "id": "7aa357ec",
   "metadata": {},
   "outputs": [],
   "source": [
    "model.load_weights(filepath = 'D:/ML/Handpose/model.h5')"
   ]
  },
  {
   "cell_type": "code",
   "execution_count": 279,
   "id": "27a2d6da",
   "metadata": {},
   "outputs": [
    {
     "name": "stderr",
     "output_type": "stream",
     "text": [
      "C:\\Users\\DELL\\AppData\\Local\\Temp\\ipykernel_34236\\387940907.py:1: UserWarning: `Model.evaluate_generator` is deprecated and will be removed in a future version. Please use `Model.evaluate`, which supports generators.\n",
      "  scores = model.evaluate_generator(test_dataset, verbose=0)\n"
     ]
    },
    {
     "name": "stdout",
     "output_type": "stream",
     "text": [
      "accuracy: 95.08%\n"
     ]
    }
   ],
   "source": [
    "scores = model.evaluate_generator(test_dataset, verbose=0)\n",
    "print(\"%s: %.2f%%\" %(model.metrics_names[1], scores[1]*100))"
   ]
  },
  {
   "cell_type": "code",
   "execution_count": 280,
   "id": "d0b693f9",
   "metadata": {},
   "outputs": [],
   "source": [
    "result = pd.read_csv('./open/test.csv')"
   ]
  },
  {
   "cell_type": "code",
   "execution_count": 281,
   "id": "bf20974c",
   "metadata": {},
   "outputs": [
    {
     "data": {
      "text/html": [
       "<div>\n",
       "<style scoped>\n",
       "    .dataframe tbody tr th:only-of-type {\n",
       "        vertical-align: middle;\n",
       "    }\n",
       "\n",
       "    .dataframe tbody tr th {\n",
       "        vertical-align: top;\n",
       "    }\n",
       "\n",
       "    .dataframe thead th {\n",
       "        text-align: right;\n",
       "    }\n",
       "</style>\n",
       "<table border=\"1\" class=\"dataframe\">\n",
       "  <thead>\n",
       "    <tr style=\"text-align: right;\">\n",
       "      <th></th>\n",
       "      <th>id</th>\n",
       "      <th>path</th>\n",
       "    </tr>\n",
       "  </thead>\n",
       "  <tbody>\n",
       "    <tr>\n",
       "      <th>0</th>\n",
       "      <td>TEST_000</td>\n",
       "      <td>./test/TEST_000.mp4</td>\n",
       "    </tr>\n",
       "    <tr>\n",
       "      <th>1</th>\n",
       "      <td>TEST_001</td>\n",
       "      <td>./test/TEST_001.mp4</td>\n",
       "    </tr>\n",
       "    <tr>\n",
       "      <th>2</th>\n",
       "      <td>TEST_002</td>\n",
       "      <td>./test/TEST_002.mp4</td>\n",
       "    </tr>\n",
       "    <tr>\n",
       "      <th>3</th>\n",
       "      <td>TEST_003</td>\n",
       "      <td>./test/TEST_003.mp4</td>\n",
       "    </tr>\n",
       "    <tr>\n",
       "      <th>4</th>\n",
       "      <td>TEST_004</td>\n",
       "      <td>./test/TEST_004.mp4</td>\n",
       "    </tr>\n",
       "    <tr>\n",
       "      <th>...</th>\n",
       "      <td>...</td>\n",
       "      <td>...</td>\n",
       "    </tr>\n",
       "    <tr>\n",
       "      <th>148</th>\n",
       "      <td>TEST_148</td>\n",
       "      <td>./test/TEST_148.mp4</td>\n",
       "    </tr>\n",
       "    <tr>\n",
       "      <th>149</th>\n",
       "      <td>TEST_149</td>\n",
       "      <td>./test/TEST_149.mp4</td>\n",
       "    </tr>\n",
       "    <tr>\n",
       "      <th>150</th>\n",
       "      <td>TEST_150</td>\n",
       "      <td>./test/TEST_150.mp4</td>\n",
       "    </tr>\n",
       "    <tr>\n",
       "      <th>151</th>\n",
       "      <td>TEST_151</td>\n",
       "      <td>./test/TEST_151.mp4</td>\n",
       "    </tr>\n",
       "    <tr>\n",
       "      <th>152</th>\n",
       "      <td>TEST_152</td>\n",
       "      <td>./test/TEST_152.mp4</td>\n",
       "    </tr>\n",
       "  </tbody>\n",
       "</table>\n",
       "<p>153 rows × 2 columns</p>\n",
       "</div>"
      ],
      "text/plain": [
       "           id                 path\n",
       "0    TEST_000  ./test/TEST_000.mp4\n",
       "1    TEST_001  ./test/TEST_001.mp4\n",
       "2    TEST_002  ./test/TEST_002.mp4\n",
       "3    TEST_003  ./test/TEST_003.mp4\n",
       "4    TEST_004  ./test/TEST_004.mp4\n",
       "..        ...                  ...\n",
       "148  TEST_148  ./test/TEST_148.mp4\n",
       "149  TEST_149  ./test/TEST_149.mp4\n",
       "150  TEST_150  ./test/TEST_150.mp4\n",
       "151  TEST_151  ./test/TEST_151.mp4\n",
       "152  TEST_152  ./test/TEST_152.mp4\n",
       "\n",
       "[153 rows x 2 columns]"
      ]
     },
     "execution_count": 281,
     "metadata": {},
     "output_type": "execute_result"
    }
   ],
   "source": [
    "result"
   ]
  },
  {
   "cell_type": "code",
   "execution_count": 282,
   "id": "efcdc87a",
   "metadata": {},
   "outputs": [],
   "source": [
    "result['path'] = ['D:/ML/Handpose/open/' + path[2:] for path in result['path']]"
   ]
  },
  {
   "cell_type": "code",
   "execution_count": 283,
   "id": "980014ed",
   "metadata": {},
   "outputs": [],
   "source": [
    "result_path, result_y = get_data(result, infer=True)"
   ]
  },
  {
   "cell_type": "code",
   "execution_count": 284,
   "id": "839545ff",
   "metadata": {},
   "outputs": [],
   "source": [
    "result_Gen = CustomDataset(result_path, result_y, 16, test_transform, shuffle=False)"
   ]
  },
  {
   "cell_type": "code",
   "execution_count": 285,
   "id": "af975cd4",
   "metadata": {},
   "outputs": [
    {
     "name": "stdout",
     "output_type": "stream",
     "text": [
      "10/10 [==============================] - 3s 269ms/step\n"
     ]
    }
   ],
   "source": [
    "Test_Predic = model.predict(result_Gen)"
   ]
  },
  {
   "cell_type": "code",
   "execution_count": 286,
   "id": "a07d0c38",
   "metadata": {},
   "outputs": [
    {
     "data": {
      "text/plain": [
       "(153, 5)"
      ]
     },
     "execution_count": 286,
     "metadata": {},
     "output_type": "execute_result"
    }
   ],
   "source": [
    "Test_Predic.shape"
   ]
  },
  {
   "cell_type": "code",
   "execution_count": 287,
   "id": "9cd71330",
   "metadata": {},
   "outputs": [
    {
     "data": {
      "text/plain": [
       "array([1, 3, 0, 2, 4, 0, 4, 3, 0, 0, 2, 0, 0, 4, 1, 0, 3, 1, 0, 1, 2, 2,\n",
       "       2, 3, 2, 3, 1, 4, 4, 0, 3, 1, 1, 4, 3, 4, 2, 3, 2, 0, 2, 3, 4, 3,\n",
       "       3, 4, 4, 0, 4, 1, 3, 0, 1, 0, 1, 3, 1, 2, 0, 4, 0, 3, 4, 2, 4, 2,\n",
       "       1, 0, 2, 4, 3, 1, 3, 3, 3, 0, 0, 4, 3, 0, 0, 3, 2, 1, 3, 2, 4, 3,\n",
       "       0, 2, 1, 2, 2, 0, 2, 1, 4, 0, 2, 3, 2, 4, 1, 4, 1, 2, 0, 0, 3, 1,\n",
       "       0, 1, 4, 3, 1, 1, 0, 1, 1, 3, 1, 3, 1, 1, 3, 4, 0, 2, 1, 0, 0, 1,\n",
       "       4, 2, 4, 0, 0, 3, 2, 0, 0, 0, 0, 1, 3, 1, 2, 2, 2, 0, 0, 1, 2],\n",
       "      dtype=int64)"
      ]
     },
     "execution_count": 287,
     "metadata": {},
     "output_type": "execute_result"
    }
   ],
   "source": [
    "Test_Predic = np.argmax(Test_Predic, axis = 1)\n",
    "Test_Predic"
   ]
  },
  {
   "cell_type": "code",
   "execution_count": 288,
   "id": "82175c9d",
   "metadata": {},
   "outputs": [],
   "source": [
    "submit = pd.read_csv(\"./open/sample_submission.csv\")"
   ]
  },
  {
   "cell_type": "code",
   "execution_count": 289,
   "id": "b24c72f3",
   "metadata": {},
   "outputs": [
    {
     "data": {
      "text/html": [
       "<div>\n",
       "<style scoped>\n",
       "    .dataframe tbody tr th:only-of-type {\n",
       "        vertical-align: middle;\n",
       "    }\n",
       "\n",
       "    .dataframe tbody tr th {\n",
       "        vertical-align: top;\n",
       "    }\n",
       "\n",
       "    .dataframe thead th {\n",
       "        text-align: right;\n",
       "    }\n",
       "</style>\n",
       "<table border=\"1\" class=\"dataframe\">\n",
       "  <thead>\n",
       "    <tr style=\"text-align: right;\">\n",
       "      <th></th>\n",
       "      <th>id</th>\n",
       "      <th>label</th>\n",
       "    </tr>\n",
       "  </thead>\n",
       "  <tbody>\n",
       "    <tr>\n",
       "      <th>0</th>\n",
       "      <td>TEST_000</td>\n",
       "      <td>0</td>\n",
       "    </tr>\n",
       "    <tr>\n",
       "      <th>1</th>\n",
       "      <td>TEST_001</td>\n",
       "      <td>0</td>\n",
       "    </tr>\n",
       "    <tr>\n",
       "      <th>2</th>\n",
       "      <td>TEST_002</td>\n",
       "      <td>0</td>\n",
       "    </tr>\n",
       "    <tr>\n",
       "      <th>3</th>\n",
       "      <td>TEST_003</td>\n",
       "      <td>0</td>\n",
       "    </tr>\n",
       "    <tr>\n",
       "      <th>4</th>\n",
       "      <td>TEST_004</td>\n",
       "      <td>0</td>\n",
       "    </tr>\n",
       "    <tr>\n",
       "      <th>...</th>\n",
       "      <td>...</td>\n",
       "      <td>...</td>\n",
       "    </tr>\n",
       "    <tr>\n",
       "      <th>148</th>\n",
       "      <td>TEST_148</td>\n",
       "      <td>0</td>\n",
       "    </tr>\n",
       "    <tr>\n",
       "      <th>149</th>\n",
       "      <td>TEST_149</td>\n",
       "      <td>0</td>\n",
       "    </tr>\n",
       "    <tr>\n",
       "      <th>150</th>\n",
       "      <td>TEST_150</td>\n",
       "      <td>0</td>\n",
       "    </tr>\n",
       "    <tr>\n",
       "      <th>151</th>\n",
       "      <td>TEST_151</td>\n",
       "      <td>0</td>\n",
       "    </tr>\n",
       "    <tr>\n",
       "      <th>152</th>\n",
       "      <td>TEST_152</td>\n",
       "      <td>0</td>\n",
       "    </tr>\n",
       "  </tbody>\n",
       "</table>\n",
       "<p>153 rows × 2 columns</p>\n",
       "</div>"
      ],
      "text/plain": [
       "           id  label\n",
       "0    TEST_000      0\n",
       "1    TEST_001      0\n",
       "2    TEST_002      0\n",
       "3    TEST_003      0\n",
       "4    TEST_004      0\n",
       "..        ...    ...\n",
       "148  TEST_148      0\n",
       "149  TEST_149      0\n",
       "150  TEST_150      0\n",
       "151  TEST_151      0\n",
       "152  TEST_152      0\n",
       "\n",
       "[153 rows x 2 columns]"
      ]
     },
     "execution_count": 289,
     "metadata": {},
     "output_type": "execute_result"
    }
   ],
   "source": [
    "submit"
   ]
  },
  {
   "cell_type": "code",
   "execution_count": 290,
   "id": "240e8b89",
   "metadata": {},
   "outputs": [],
   "source": [
    "submit['label'] = Test_Predic"
   ]
  },
  {
   "cell_type": "code",
   "execution_count": 291,
   "id": "14a8e2ee",
   "metadata": {},
   "outputs": [],
   "source": [
    "submit.to_csv('./submit.csv', index=False)"
   ]
  },
  {
   "cell_type": "code",
   "execution_count": null,
   "id": "aa1c3d03",
   "metadata": {},
   "outputs": [],
   "source": []
  },
  {
   "cell_type": "code",
   "execution_count": null,
   "id": "6fce6dec",
   "metadata": {},
   "outputs": [],
   "source": [
    "    "
   ]
  }
 ],
 "metadata": {
  "kernelspec": {
   "display_name": "Python 3 (ipykernel)",
   "language": "python",
   "name": "python3"
  },
  "language_info": {
   "codemirror_mode": {
    "name": "ipython",
    "version": 3
   },
   "file_extension": ".py",
   "mimetype": "text/x-python",
   "name": "python",
   "nbconvert_exporter": "python",
   "pygments_lexer": "ipython3",
   "version": "3.10.6"
  }
 },
 "nbformat": 4,
 "nbformat_minor": 5
}
